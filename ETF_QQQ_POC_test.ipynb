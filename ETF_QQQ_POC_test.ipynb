{
  "nbformat": 4,
  "nbformat_minor": 0,
  "metadata": {
    "colab": {
      "name": "ETF_QQQ_POC_test.ipynb",
      "version": "0.3.2",
      "provenance": [],
      "collapsed_sections": [],
      "toc_visible": true,
      "include_colab_link": true
    },
    "kernelspec": {
      "name": "python3",
      "display_name": "Python 3"
    },
    "accelerator": "GPU"
  },
  "cells": [
    {
      "cell_type": "markdown",
      "metadata": {
        "id": "view-in-github",
        "colab_type": "text"
      },
      "source": [
        "<a href=\"https://colab.research.google.com/github/cyuancheng/Stock_Prediction/blob/master/ETF_QQQ_POC_test.ipynb\" target=\"_parent\"><img src=\"https://colab.research.google.com/assets/colab-badge.svg\" alt=\"Open In Colab\"/></a>"
      ]
    },
    {
      "cell_type": "code",
      "metadata": {
        "id": "pEGfnHTW1ARo",
        "colab_type": "code",
        "outputId": "fa264ecd-709c-4755-bcbc-39ff5d58b997",
        "colab": {
          "base_uri": "https://localhost:8080/",
          "height": 326
        }
      },
      "source": [
        "# Install TA Package\n",
        "\n",
        "print('Installing TA...')\n",
        "!pip install ta"
      ],
      "execution_count": 1,
      "outputs": [
        {
          "output_type": "stream",
          "text": [
            "Installing TA...\n",
            "Collecting ta\n",
            "  Downloading https://files.pythonhosted.org/packages/3e/d3/749d9c6975a699de8b661113cb835212176baf3b8714389e6f9f51a396da/ta-0.4.5.tar.gz\n",
            "Requirement already satisfied: numpy in /usr/local/lib/python3.6/dist-packages (from ta) (1.16.4)\n",
            "Requirement already satisfied: pandas in /usr/local/lib/python3.6/dist-packages (from ta) (0.24.2)\n",
            "Requirement already satisfied: scikit-learn in /usr/local/lib/python3.6/dist-packages (from ta) (0.21.2)\n",
            "Requirement already satisfied: pytz>=2011k in /usr/local/lib/python3.6/dist-packages (from pandas->ta) (2018.9)\n",
            "Requirement already satisfied: python-dateutil>=2.5.0 in /usr/local/lib/python3.6/dist-packages (from pandas->ta) (2.5.3)\n",
            "Requirement already satisfied: scipy>=0.17.0 in /usr/local/lib/python3.6/dist-packages (from scikit-learn->ta) (1.3.0)\n",
            "Requirement already satisfied: joblib>=0.11 in /usr/local/lib/python3.6/dist-packages (from scikit-learn->ta) (0.13.2)\n",
            "Requirement already satisfied: six>=1.5 in /usr/local/lib/python3.6/dist-packages (from python-dateutil>=2.5.0->pandas->ta) (1.12.0)\n",
            "Building wheels for collected packages: ta\n",
            "  Building wheel for ta (setup.py) ... \u001b[?25l\u001b[?25hdone\n",
            "  Stored in directory: /root/.cache/pip/wheels/de/ac/09/28855b628633d42061f670c59df6877a1dbdf70d04c985bc18\n",
            "Successfully built ta\n",
            "Installing collected packages: ta\n",
            "Successfully installed ta-0.4.5\n"
          ],
          "name": "stdout"
        }
      ]
    },
    {
      "cell_type": "markdown",
      "metadata": {
        "id": "ihsr5QSQ-dA5",
        "colab_type": "text"
      },
      "source": [
        "### Import Packages"
      ]
    },
    {
      "cell_type": "code",
      "metadata": {
        "id": "4lSLeosn1Lj1",
        "colab_type": "code",
        "outputId": "85bc53ea-d853-4767-d3fa-fac9ae3d1e39",
        "colab": {
          "base_uri": "https://localhost:8080/",
          "height": 34
        }
      },
      "source": [
        "import datetime as dt\n",
        "import ta\n",
        "import os\n",
        "\n",
        "\n",
        "import numpy as np\n",
        "import pandas as pd\n",
        "import plotly.plotly as py\n",
        "import plotly.graph_objs as go\n",
        "\n",
        "import matplotlib.pyplot as plt\n",
        "import matplotlib.ticker as mticker\n",
        "import matplotlib.dates as mdates\n",
        "import seaborn as sns\n",
        "\n",
        "from sklearn.preprocessing import Normalizer, normalize, MinMaxScaler, StandardScaler\n",
        "from sklearn.decomposition import PCA\n",
        "from sklearn.metrics import mean_squared_error\n",
        "from sklearn.metrics import confusion_matrix\n",
        "\n",
        "from keras.models import Sequential\n",
        "from keras.layers import Dense\n",
        "from keras.layers import LSTM\n",
        "from keras.layers import LSTM\n",
        "from keras.layers import RepeatVector\n",
        "from keras.layers import TimeDistributed\n",
        "from keras.layers import Dropout\n",
        "from keras.metrics import categorical_accuracy\n",
        "from keras.utils import to_categorical\n",
        " \n",
        "\n",
        "%matplotlib inline"
      ],
      "execution_count": 2,
      "outputs": [
        {
          "output_type": "stream",
          "text": [
            "Using TensorFlow backend.\n"
          ],
          "name": "stderr"
        }
      ]
    },
    {
      "cell_type": "markdown",
      "metadata": {
        "id": "UaZVjB76-H_p",
        "colab_type": "text"
      },
      "source": [
        "### Load Transform Script\n"
      ]
    },
    {
      "cell_type": "code",
      "metadata": {
        "id": "PxUbpJWN1SPq",
        "colab_type": "code",
        "outputId": "6ac06067-4b5d-404d-9deb-6f86f9476bb2",
        "colab": {
          "resources": {
            "http://localhost:8080/nbextensions/google.colab/files.js": {
              "data": "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",
              "ok": true,
              "headers": [
                [
                  "content-type",
                  "application/javascript"
                ]
              ],
              "status": 200,
              "status_text": ""
            }
          },
          "base_uri": "https://localhost:8080/",
          "height": 71
        }
      },
      "source": [
        "# Upload Transform script from local file\n",
        "\n",
        "from google.colab import files\n",
        "uploaded = files.upload()"
      ],
      "execution_count": 3,
      "outputs": [
        {
          "output_type": "display_data",
          "data": {
            "text/html": [
              "\n",
              "     <input type=\"file\" id=\"files-39388aab-7c99-4496-a935-99a849428d33\" name=\"files[]\" multiple disabled />\n",
              "     <output id=\"result-39388aab-7c99-4496-a935-99a849428d33\">\n",
              "      Upload widget is only available when the cell has been executed in the\n",
              "      current browser session. Please rerun this cell to enable.\n",
              "      </output>\n",
              "      <script src=\"/nbextensions/google.colab/files.js\"></script> "
            ],
            "text/plain": [
              "<IPython.core.display.HTML object>"
            ]
          },
          "metadata": {
            "tags": []
          }
        },
        {
          "output_type": "stream",
          "text": [
            "Saving TransformData.py to TransformData.py\n"
          ],
          "name": "stdout"
        }
      ]
    },
    {
      "cell_type": "code",
      "metadata": {
        "id": "6S2Zjd5w1cpS",
        "colab_type": "code",
        "colab": {}
      },
      "source": [
        "from sklearn.pipeline import Pipeline\n",
        "from TransformData import Normalizer, PCA_, GetTA"
      ],
      "execution_count": 0,
      "outputs": []
    },
    {
      "cell_type": "markdown",
      "metadata": {
        "id": "WMo8Ff1W-Won",
        "colab_type": "text"
      },
      "source": [
        "### Load QQQ file "
      ]
    },
    {
      "cell_type": "code",
      "metadata": {
        "id": "cNCcDm3m1c0_",
        "colab_type": "code",
        "outputId": "c3df6f86-7547-4c54-f093-17a2e68db3b7",
        "colab": {
          "resources": {
            "http://localhost:8080/nbextensions/google.colab/files.js": {
              "data": "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",
              "ok": true,
              "headers": [
                [
                  "content-type",
                  "application/javascript"
                ]
              ],
              "status": 200,
              "status_text": ""
            }
          },
          "base_uri": "https://localhost:8080/",
          "height": 71
        }
      },
      "source": [
        "# Upload QQQ file\n",
        "\n",
        "from google.colab import files\n",
        "uploaded = files.upload()"
      ],
      "execution_count": 5,
      "outputs": [
        {
          "output_type": "display_data",
          "data": {
            "text/html": [
              "\n",
              "     <input type=\"file\" id=\"files-9cc24725-63e0-42b6-9322-dd091537bd54\" name=\"files[]\" multiple disabled />\n",
              "     <output id=\"result-9cc24725-63e0-42b6-9322-dd091537bd54\">\n",
              "      Upload widget is only available when the cell has been executed in the\n",
              "      current browser session. Please rerun this cell to enable.\n",
              "      </output>\n",
              "      <script src=\"/nbextensions/google.colab/files.js\"></script> "
            ],
            "text/plain": [
              "<IPython.core.display.HTML object>"
            ]
          },
          "metadata": {
            "tags": []
          }
        },
        {
          "output_type": "stream",
          "text": [
            "Saving AlphaVantageDaily_adjusted_qqq.csv to AlphaVantageDaily_adjusted_qqq.csv\n"
          ],
          "name": "stdout"
        }
      ]
    },
    {
      "cell_type": "code",
      "metadata": {
        "id": "RX1QFIY81c4w",
        "colab_type": "code",
        "outputId": "39345a67-129f-4cce-97ef-ef6b251baa62",
        "colab": {
          "base_uri": "https://localhost:8080/",
          "height": 410
        }
      },
      "source": [
        "etf = pd.read_csv('AlphaVantageDaily_adjusted_qqq.csv', infer_datetime_format=True,  index_col=['timestamp'])\n",
        "etf.sort_index(inplace=True)\n",
        "etf.tail(10)"
      ],
      "execution_count": 6,
      "outputs": [
        {
          "output_type": "execute_result",
          "data": {
            "text/html": [
              "<div>\n",
              "<style scoped>\n",
              "    .dataframe tbody tr th:only-of-type {\n",
              "        vertical-align: middle;\n",
              "    }\n",
              "\n",
              "    .dataframe tbody tr th {\n",
              "        vertical-align: top;\n",
              "    }\n",
              "\n",
              "    .dataframe thead th {\n",
              "        text-align: right;\n",
              "    }\n",
              "</style>\n",
              "<table border=\"1\" class=\"dataframe\">\n",
              "  <thead>\n",
              "    <tr style=\"text-align: right;\">\n",
              "      <th></th>\n",
              "      <th>open</th>\n",
              "      <th>high</th>\n",
              "      <th>low</th>\n",
              "      <th>close</th>\n",
              "      <th>adjusted_close</th>\n",
              "      <th>volume</th>\n",
              "      <th>dividend_amount</th>\n",
              "      <th>split_coefficient</th>\n",
              "    </tr>\n",
              "    <tr>\n",
              "      <th>timestamp</th>\n",
              "      <th></th>\n",
              "      <th></th>\n",
              "      <th></th>\n",
              "      <th></th>\n",
              "      <th></th>\n",
              "      <th></th>\n",
              "      <th></th>\n",
              "      <th></th>\n",
              "    </tr>\n",
              "  </thead>\n",
              "  <tbody>\n",
              "    <tr>\n",
              "      <th>2019-06-14</th>\n",
              "      <td>182.44</td>\n",
              "      <td>183.11</td>\n",
              "      <td>181.9400</td>\n",
              "      <td>182.64</td>\n",
              "      <td>182.2375</td>\n",
              "      <td>22844089</td>\n",
              "      <td>0.0000</td>\n",
              "      <td>1.0</td>\n",
              "    </tr>\n",
              "    <tr>\n",
              "      <th>2019-06-17</th>\n",
              "      <td>183.01</td>\n",
              "      <td>184.25</td>\n",
              "      <td>182.8350</td>\n",
              "      <td>183.74</td>\n",
              "      <td>183.3351</td>\n",
              "      <td>20379476</td>\n",
              "      <td>0.0000</td>\n",
              "      <td>1.0</td>\n",
              "    </tr>\n",
              "    <tr>\n",
              "      <th>2019-06-18</th>\n",
              "      <td>185.88</td>\n",
              "      <td>187.72</td>\n",
              "      <td>185.4291</td>\n",
              "      <td>186.41</td>\n",
              "      <td>185.9992</td>\n",
              "      <td>48177301</td>\n",
              "      <td>0.0000</td>\n",
              "      <td>1.0</td>\n",
              "    </tr>\n",
              "    <tr>\n",
              "      <th>2019-06-19</th>\n",
              "      <td>186.73</td>\n",
              "      <td>187.53</td>\n",
              "      <td>185.5700</td>\n",
              "      <td>187.11</td>\n",
              "      <td>186.6976</td>\n",
              "      <td>31672855</td>\n",
              "      <td>0.0000</td>\n",
              "      <td>1.0</td>\n",
              "    </tr>\n",
              "    <tr>\n",
              "      <th>2019-06-20</th>\n",
              "      <td>189.72</td>\n",
              "      <td>189.76</td>\n",
              "      <td>187.1585</td>\n",
              "      <td>188.85</td>\n",
              "      <td>188.4338</td>\n",
              "      <td>40921964</td>\n",
              "      <td>0.0000</td>\n",
              "      <td>1.0</td>\n",
              "    </tr>\n",
              "    <tr>\n",
              "      <th>2019-06-21</th>\n",
              "      <td>188.57</td>\n",
              "      <td>189.77</td>\n",
              "      <td>188.1736</td>\n",
              "      <td>188.57</td>\n",
              "      <td>188.1544</td>\n",
              "      <td>39980418</td>\n",
              "      <td>0.0000</td>\n",
              "      <td>1.0</td>\n",
              "    </tr>\n",
              "    <tr>\n",
              "      <th>2019-06-24</th>\n",
              "      <td>188.52</td>\n",
              "      <td>188.72</td>\n",
              "      <td>188.0600</td>\n",
              "      <td>188.16</td>\n",
              "      <td>188.1600</td>\n",
              "      <td>19375205</td>\n",
              "      <td>0.4156</td>\n",
              "      <td>1.0</td>\n",
              "    </tr>\n",
              "    <tr>\n",
              "      <th>2019-06-25</th>\n",
              "      <td>188.06</td>\n",
              "      <td>188.14</td>\n",
              "      <td>184.6500</td>\n",
              "      <td>184.93</td>\n",
              "      <td>184.9300</td>\n",
              "      <td>33921112</td>\n",
              "      <td>0.0000</td>\n",
              "      <td>1.0</td>\n",
              "    </tr>\n",
              "    <tr>\n",
              "      <th>2019-06-26</th>\n",
              "      <td>186.13</td>\n",
              "      <td>187.33</td>\n",
              "      <td>185.4900</td>\n",
              "      <td>185.79</td>\n",
              "      <td>185.7900</td>\n",
              "      <td>22512628</td>\n",
              "      <td>0.0000</td>\n",
              "      <td>1.0</td>\n",
              "    </tr>\n",
              "    <tr>\n",
              "      <th>2019-06-27</th>\n",
              "      <td>186.47</td>\n",
              "      <td>186.94</td>\n",
              "      <td>185.9900</td>\n",
              "      <td>186.72</td>\n",
              "      <td>186.7200</td>\n",
              "      <td>15889915</td>\n",
              "      <td>0.0000</td>\n",
              "      <td>1.0</td>\n",
              "    </tr>\n",
              "  </tbody>\n",
              "</table>\n",
              "</div>"
            ],
            "text/plain": [
              "              open    high  ...  dividend_amount  split_coefficient\n",
              "timestamp                   ...                                    \n",
              "2019-06-14  182.44  183.11  ...           0.0000                1.0\n",
              "2019-06-17  183.01  184.25  ...           0.0000                1.0\n",
              "2019-06-18  185.88  187.72  ...           0.0000                1.0\n",
              "2019-06-19  186.73  187.53  ...           0.0000                1.0\n",
              "2019-06-20  189.72  189.76  ...           0.0000                1.0\n",
              "2019-06-21  188.57  189.77  ...           0.0000                1.0\n",
              "2019-06-24  188.52  188.72  ...           0.4156                1.0\n",
              "2019-06-25  188.06  188.14  ...           0.0000                1.0\n",
              "2019-06-26  186.13  187.33  ...           0.0000                1.0\n",
              "2019-06-27  186.47  186.94  ...           0.0000                1.0\n",
              "\n",
              "[10 rows x 8 columns]"
            ]
          },
          "metadata": {
            "tags": []
          },
          "execution_count": 6
        }
      ]
    },
    {
      "cell_type": "code",
      "metadata": {
        "id": "An6uJetb-u4J",
        "colab_type": "code",
        "outputId": "d4593cd7-ffa2-43a3-9d43-09f96240d77b",
        "colab": {
          "base_uri": "https://localhost:8080/",
          "height": 68
        }
      },
      "source": [
        "print('First Record:', etf.index.min())\n",
        "print('Last Record:', etf.index.max())\n",
        "print('Number of Records:', len(etf))"
      ],
      "execution_count": 7,
      "outputs": [
        {
          "output_type": "stream",
          "text": [
            "First Record: 1999-03-10\n",
            "Last Record: 2019-06-27\n",
            "Number of Records: 5109\n"
          ],
          "name": "stdout"
        }
      ]
    },
    {
      "cell_type": "code",
      "metadata": {
        "id": "PGnK1VxOMYGl",
        "colab_type": "code",
        "outputId": "cec02f75-4a09-4304-b3fe-fc391d34b7eb",
        "colab": {
          "base_uri": "https://localhost:8080/",
          "height": 317
        }
      },
      "source": [
        "etf.describe()"
      ],
      "execution_count": 13,
      "outputs": [
        {
          "output_type": "execute_result",
          "data": {
            "text/html": [
              "<div>\n",
              "<style scoped>\n",
              "    .dataframe tbody tr th:only-of-type {\n",
              "        vertical-align: middle;\n",
              "    }\n",
              "\n",
              "    .dataframe tbody tr th {\n",
              "        vertical-align: top;\n",
              "    }\n",
              "\n",
              "    .dataframe thead th {\n",
              "        text-align: right;\n",
              "    }\n",
              "</style>\n",
              "<table border=\"1\" class=\"dataframe\">\n",
              "  <thead>\n",
              "    <tr style=\"text-align: right;\">\n",
              "      <th></th>\n",
              "      <th>open</th>\n",
              "      <th>high</th>\n",
              "      <th>low</th>\n",
              "      <th>close</th>\n",
              "      <th>adjusted_close</th>\n",
              "      <th>volume</th>\n",
              "      <th>dividend_amount</th>\n",
              "      <th>split_coefficient</th>\n",
              "    </tr>\n",
              "  </thead>\n",
              "  <tbody>\n",
              "    <tr>\n",
              "      <th>count</th>\n",
              "      <td>5109.000000</td>\n",
              "      <td>5109.000000</td>\n",
              "      <td>5109.000000</td>\n",
              "      <td>5109.000000</td>\n",
              "      <td>5109.000000</td>\n",
              "      <td>5.109000e+03</td>\n",
              "      <td>5109.000000</td>\n",
              "      <td>5109.000000</td>\n",
              "    </tr>\n",
              "    <tr>\n",
              "      <th>mean</th>\n",
              "      <td>74.386994</td>\n",
              "      <td>75.014152</td>\n",
              "      <td>73.653193</td>\n",
              "      <td>74.370472</td>\n",
              "      <td>66.478464</td>\n",
              "      <td>6.996211e+07</td>\n",
              "      <td>0.002143</td>\n",
              "      <td>1.000196</td>\n",
              "    </tr>\n",
              "    <tr>\n",
              "      <th>std</th>\n",
              "      <td>44.939833</td>\n",
              "      <td>45.244975</td>\n",
              "      <td>44.560793</td>\n",
              "      <td>44.954194</td>\n",
              "      <td>42.465513</td>\n",
              "      <td>5.292414e+07</td>\n",
              "      <td>0.024365</td>\n",
              "      <td>0.013990</td>\n",
              "    </tr>\n",
              "    <tr>\n",
              "      <th>min</th>\n",
              "      <td>19.940000</td>\n",
              "      <td>20.530000</td>\n",
              "      <td>19.760000</td>\n",
              "      <td>20.060000</td>\n",
              "      <td>17.677800</td>\n",
              "      <td>1.097837e+06</td>\n",
              "      <td>0.000000</td>\n",
              "      <td>1.000000</td>\n",
              "    </tr>\n",
              "    <tr>\n",
              "      <th>25%</th>\n",
              "      <td>39.390000</td>\n",
              "      <td>39.685000</td>\n",
              "      <td>39.000000</td>\n",
              "      <td>39.350000</td>\n",
              "      <td>35.073700</td>\n",
              "      <td>3.017664e+07</td>\n",
              "      <td>0.000000</td>\n",
              "      <td>1.000000</td>\n",
              "    </tr>\n",
              "    <tr>\n",
              "      <th>50%</th>\n",
              "      <td>55.380000</td>\n",
              "      <td>55.870000</td>\n",
              "      <td>54.790000</td>\n",
              "      <td>55.380000</td>\n",
              "      <td>48.967100</td>\n",
              "      <td>6.009376e+07</td>\n",
              "      <td>0.000000</td>\n",
              "      <td>1.000000</td>\n",
              "    </tr>\n",
              "    <tr>\n",
              "      <th>75%</th>\n",
              "      <td>105.290000</td>\n",
              "      <td>105.919900</td>\n",
              "      <td>104.210000</td>\n",
              "      <td>105.120000</td>\n",
              "      <td>90.140900</td>\n",
              "      <td>9.444580e+07</td>\n",
              "      <td>0.000000</td>\n",
              "      <td>1.000000</td>\n",
              "    </tr>\n",
              "    <tr>\n",
              "      <th>max</th>\n",
              "      <td>229.800000</td>\n",
              "      <td>232.900000</td>\n",
              "      <td>227.000000</td>\n",
              "      <td>230.000000</td>\n",
              "      <td>190.688800</td>\n",
              "      <td>6.165787e+08</td>\n",
              "      <td>0.420600</td>\n",
              "      <td>2.000000</td>\n",
              "    </tr>\n",
              "  </tbody>\n",
              "</table>\n",
              "</div>"
            ],
            "text/plain": [
              "              open         high  ...  dividend_amount  split_coefficient\n",
              "count  5109.000000  5109.000000  ...      5109.000000        5109.000000\n",
              "mean     74.386994    75.014152  ...         0.002143           1.000196\n",
              "std      44.939833    45.244975  ...         0.024365           0.013990\n",
              "min      19.940000    20.530000  ...         0.000000           1.000000\n",
              "25%      39.390000    39.685000  ...         0.000000           1.000000\n",
              "50%      55.380000    55.870000  ...         0.000000           1.000000\n",
              "75%     105.290000   105.919900  ...         0.000000           1.000000\n",
              "max     229.800000   232.900000  ...         0.420600           2.000000\n",
              "\n",
              "[8 rows x 8 columns]"
            ]
          },
          "metadata": {
            "tags": []
          },
          "execution_count": 13
        }
      ]
    },
    {
      "cell_type": "code",
      "metadata": {
        "id": "EvfSeY_JPvWb",
        "colab_type": "code",
        "colab": {
          "base_uri": "https://localhost:8080/",
          "height": 34
        },
        "outputId": "dada0e21-47f5-4e4c-a444-c93568d842d2"
      },
      "source": [
        "# check nan data\n",
        "etf['adjusted_close'].isnull().sum()"
      ],
      "execution_count": 42,
      "outputs": [
        {
          "output_type": "execute_result",
          "data": {
            "text/plain": [
              "0"
            ]
          },
          "metadata": {
            "tags": []
          },
          "execution_count": 42
        }
      ]
    },
    {
      "cell_type": "code",
      "metadata": {
        "id": "yZrILjztJ0bH",
        "colab_type": "code",
        "colab": {}
      },
      "source": [
        "hi_lo = etf_snap.high-etf.low"
      ],
      "execution_count": 0,
      "outputs": []
    },
    {
      "cell_type": "code",
      "metadata": {
        "id": "eXGNMm5KNMY6",
        "colab_type": "code",
        "colab": {}
      },
      "source": [
        "# convert index from string to timestamp\n",
        "etf.index = pd.to_datetime(etf.index)"
      ],
      "execution_count": 0,
      "outputs": []
    },
    {
      "cell_type": "markdown",
      "metadata": {
        "id": "H7J6WvWo_ndd",
        "colab_type": "text"
      },
      "source": [
        ""
      ]
    },
    {
      "cell_type": "markdown",
      "metadata": {
        "id": "qFJxooFz_ni6",
        "colab_type": "text"
      },
      "source": [
        "### Stock Chart"
      ]
    },
    {
      "cell_type": "code",
      "metadata": {
        "id": "jbkux9Wi_sKi",
        "colab_type": "code",
        "outputId": "2f5b14f3-2e85-4862-e03d-6c7ee5551243",
        "colab": {
          "base_uri": "https://localhost:8080/",
          "height": 395
        }
      },
      "source": [
        "\n",
        "# Daily Charts\n",
        "\n",
        "spine_color = '#808080'\n",
        "grid_color = '#D3D3D3'\n",
        "\n",
        "# filter dates to select snapshot \n",
        "#start_date = etf.index.min()\n",
        "#end_date = etf.index.max()\n",
        "#etf_snap = etf.loc[start_date:end_date]\n",
        "etf_snap = etf.loc['1999-03-10':'2019-06-27']\n",
        "\n",
        "hi_lo = etf_snap.high - etf.low\n",
        "\n",
        "fig = plt.figure(figsize=(12,10))\n",
        "plt.style.use('seaborn-white')\n",
        "\n",
        "\n",
        "ax1 = plt.subplot2grid((8,1), (0,0), rowspan=3, colspan=1) \n",
        "ax2 = plt.subplot2grid((8,1), (3,0), rowspan=1, colspan=1, sharex=ax1) \n",
        "ax3 = plt.subplot2grid((8,1), (4,0), rowspan=1, colspan=1, sharex=ax1) \n",
        "\n",
        "#ax1 = plt.subplot2grid((3,1), (0,0), rowspan=1, colspan=3)\n",
        "ax1.plot(etf_snap.index, etf_snap.adjusted_close.dropna(), color='aquamarine')\n",
        "ax1.axes.get_xaxis().set_visible(True)\n",
        "ax1.set_ylabel('', color = 'black')\n",
        "ax1.set_title('Adjusted Close')\n",
        "\n",
        "ax1.spines['bottom'].set_color(spine_color)\n",
        "ax1.spines['top'].set_color(spine_color)\n",
        "ax1.spines['left'].set_color(spine_color)\n",
        "ax1.spines['right'].set_color(spine_color)\n",
        "\n",
        "ax1.grid(True, color=grid_color, lw = 0.75, ls ='--')\n",
        "ax1.tick_params(axis='y', colors='b')\n",
        "\n",
        "#ax2 = plt.subplot2grid((3,1), (1,0), rowspan=1, colspan=3)\n",
        "ax2.plot(etf_snap.index, etf_snap.volume.dropna())\n",
        "ax2.axes.get_xaxis().set_visible(True)\n",
        "ax2.set_ylabel('', color = 'black')\n",
        "ax2.set_title('Volume')\n",
        "\n",
        "ax2.spines['bottom'].set_color(spine_color)\n",
        "ax2.spines['top'].set_color(spine_color)\n",
        "ax2.spines['left'].set_color(spine_color)\n",
        "ax2.spines['right'].set_color(spine_color)\n",
        "\n",
        "ax2.grid(True, color=grid_color, lw = 0.75, ls ='--')\n",
        "ax2.tick_params(axis='y', colors='b')\n",
        "\n",
        "    \n",
        "#ax3 = plt.subplot2grid((3,1), (2,0), rowspan=1, colspan=3)\n",
        "ax3.plot(etf_snap.index, hi_lo.dropna(), color='brown', alpha=.75, ls='-')\n",
        "ax3.axes.get_xaxis().set_visible(True)\n",
        "ax3.set_ylabel('', color = 'black')\n",
        "ax3.set_title('High - Low')\n",
        "\n",
        "ax3.spines['bottom'].set_color(spine_color)\n",
        "ax3.spines['top'].set_color(spine_color)\n",
        "ax3.spines['left'].set_color(spine_color)\n",
        "ax3.spines['right'].set_color(spine_color)\n",
        "\n",
        "ax3.grid(True, color=grid_color, lw = 0.75, ls ='--')\n",
        "ax3.tick_params(axis='y', colors='b')\n",
        "\n"
      ],
      "execution_count": 35,
      "outputs": [
        {
          "output_type": "display_data",
          "data": {
            "image/png": "[encoded data removed]",
            "text/plain": [
              "<Figure size 864x720 with 3 Axes>"
            ]
          },
          "metadata": {
            "tags": []
          }
        }
      ]
    },
    {
      "cell_type": "code",
      "metadata": {
        "id": "QCgbbvo-1c7u",
        "colab_type": "code",
        "colab": {}
      },
      "source": [
        "# Retrieve TAs, Normalize Data, Run PCA\n",
        "\n",
        "pipe = Pipeline([('etf_ta',GetTA()),('normalizing',Normalizer()),('pca',PCA_(0.9))])"
      ],
      "execution_count": 0,
      "outputs": []
    },
    {
      "cell_type": "code",
      "metadata": {
        "id": "cf2yi4Lr1c-8",
        "colab_type": "code",
        "outputId": "c92b9c8a-c3a7-46b2-dee1-b63985cceb2c",
        "colab": {
          "base_uri": "https://localhost:8080/",
          "height": 374
        }
      },
      "source": [
        "# Top Principal Components\n",
        "\n",
        "etf_pca = pipe.fit_transform(etf)\n",
        "\n",
        "print(etf_pca.shape)\n"
      ],
      "execution_count": 37,
      "outputs": [
        {
          "output_type": "stream",
          "text": [
            "/usr/local/lib/python3.6/dist-packages/ta/trend.py:170: RuntimeWarning:\n",
            "\n",
            "divide by zero encountered in double_scalars\n",
            "\n",
            "/usr/local/lib/python3.6/dist-packages/ta/trend.py:170: RuntimeWarning:\n",
            "\n",
            "invalid value encountered in double_scalars\n",
            "\n",
            "/usr/local/lib/python3.6/dist-packages/ta/trend.py:174: RuntimeWarning:\n",
            "\n",
            "divide by zero encountered in double_scalars\n",
            "\n",
            "/usr/local/lib/python3.6/dist-packages/ta/trend.py:174: RuntimeWarning:\n",
            "\n",
            "invalid value encountered in double_scalars\n",
            "\n",
            "/usr/local/lib/python3.6/dist-packages/ta/trend.py:176: RuntimeWarning:\n",
            "\n",
            "invalid value encountered in subtract\n",
            "\n"
          ],
          "name": "stderr"
        },
        {
          "output_type": "stream",
          "text": [
            "(5109, 24)\n"
          ],
          "name": "stdout"
        }
      ]
    },
    {
      "cell_type": "code",
      "metadata": {
        "id": "vOGT51ET2bNm",
        "colab_type": "code",
        "outputId": "ecb84512-a28d-4aae-c7a6-8c51de3600f2",
        "colab": {
          "base_uri": "https://localhost:8080/",
          "height": 255
        }
      },
      "source": [
        "etf_pca.tail()"
      ],
      "execution_count": 39,
      "outputs": [
        {
          "output_type": "execute_result",
          "data": {
            "text/html": [
              "<div>\n",
              "<style scoped>\n",
              "    .dataframe tbody tr th:only-of-type {\n",
              "        vertical-align: middle;\n",
              "    }\n",
              "\n",
              "    .dataframe tbody tr th {\n",
              "        vertical-align: top;\n",
              "    }\n",
              "\n",
              "    .dataframe thead th {\n",
              "        text-align: right;\n",
              "    }\n",
              "</style>\n",
              "<table border=\"1\" class=\"dataframe\">\n",
              "  <thead>\n",
              "    <tr style=\"text-align: right;\">\n",
              "      <th></th>\n",
              "      <th>OriginalData_0</th>\n",
              "      <th>OriginalData_1</th>\n",
              "      <th>Volume_0</th>\n",
              "      <th>Volume_1</th>\n",
              "      <th>Volume_2</th>\n",
              "      <th>Volume_3</th>\n",
              "      <th>Volume_4</th>\n",
              "      <th>Volatility_0</th>\n",
              "      <th>Volatility_1</th>\n",
              "      <th>Volatility_2</th>\n",
              "      <th>Volatility_3</th>\n",
              "      <th>Volatility_4</th>\n",
              "      <th>Trend_0</th>\n",
              "      <th>Trend_1</th>\n",
              "      <th>Trend_2</th>\n",
              "      <th>Trend_3</th>\n",
              "      <th>Trend_4</th>\n",
              "      <th>Trend_5</th>\n",
              "      <th>Trend_6</th>\n",
              "      <th>Momentum_0</th>\n",
              "      <th>Momentum_1</th>\n",
              "      <th>Momentum_2</th>\n",
              "      <th>Others_0</th>\n",
              "      <th>Others_1</th>\n",
              "    </tr>\n",
              "    <tr>\n",
              "      <th>timestamp</th>\n",
              "      <th></th>\n",
              "      <th></th>\n",
              "      <th></th>\n",
              "      <th></th>\n",
              "      <th></th>\n",
              "      <th></th>\n",
              "      <th></th>\n",
              "      <th></th>\n",
              "      <th></th>\n",
              "      <th></th>\n",
              "      <th></th>\n",
              "      <th></th>\n",
              "      <th></th>\n",
              "      <th></th>\n",
              "      <th></th>\n",
              "      <th></th>\n",
              "      <th></th>\n",
              "      <th></th>\n",
              "      <th></th>\n",
              "      <th></th>\n",
              "      <th></th>\n",
              "      <th></th>\n",
              "      <th></th>\n",
              "      <th></th>\n",
              "    </tr>\n",
              "  </thead>\n",
              "  <tbody>\n",
              "    <tr>\n",
              "      <th>2019-06-21</th>\n",
              "      <td>0.041027</td>\n",
              "      <td>-0.008018</td>\n",
              "      <td>-0.000605</td>\n",
              "      <td>0.013688</td>\n",
              "      <td>-0.020272</td>\n",
              "      <td>0.009624</td>\n",
              "      <td>-0.042009</td>\n",
              "      <td>0.049201</td>\n",
              "      <td>0.002420</td>\n",
              "      <td>-0.007611</td>\n",
              "      <td>0.002881</td>\n",
              "      <td>-0.002708</td>\n",
              "      <td>0.022572</td>\n",
              "      <td>-0.030759</td>\n",
              "      <td>-0.046616</td>\n",
              "      <td>0.009591</td>\n",
              "      <td>-0.003326</td>\n",
              "      <td>0.006077</td>\n",
              "      <td>0.003132</td>\n",
              "      <td>-0.016204</td>\n",
              "      <td>0.008625</td>\n",
              "      <td>-0.009138</td>\n",
              "      <td>0.000857</td>\n",
              "      <td>0.030288</td>\n",
              "    </tr>\n",
              "    <tr>\n",
              "      <th>2019-06-24</th>\n",
              "      <td>0.081197</td>\n",
              "      <td>0.226276</td>\n",
              "      <td>0.003544</td>\n",
              "      <td>0.013508</td>\n",
              "      <td>-0.020702</td>\n",
              "      <td>0.012119</td>\n",
              "      <td>-0.041258</td>\n",
              "      <td>0.049096</td>\n",
              "      <td>0.002347</td>\n",
              "      <td>-0.007580</td>\n",
              "      <td>0.002702</td>\n",
              "      <td>-0.002956</td>\n",
              "      <td>0.022124</td>\n",
              "      <td>-0.023284</td>\n",
              "      <td>-0.045776</td>\n",
              "      <td>0.003549</td>\n",
              "      <td>-0.010366</td>\n",
              "      <td>0.013235</td>\n",
              "      <td>-0.000536</td>\n",
              "      <td>-0.017048</td>\n",
              "      <td>0.005777</td>\n",
              "      <td>-0.010186</td>\n",
              "      <td>0.001548</td>\n",
              "      <td>0.030199</td>\n",
              "    </tr>\n",
              "    <tr>\n",
              "      <th>2019-06-25</th>\n",
              "      <td>0.040478</td>\n",
              "      <td>-0.007935</td>\n",
              "      <td>0.006007</td>\n",
              "      <td>0.013374</td>\n",
              "      <td>-0.019735</td>\n",
              "      <td>0.014631</td>\n",
              "      <td>-0.041164</td>\n",
              "      <td>0.049334</td>\n",
              "      <td>0.002399</td>\n",
              "      <td>-0.007595</td>\n",
              "      <td>0.002794</td>\n",
              "      <td>-0.002831</td>\n",
              "      <td>0.018787</td>\n",
              "      <td>-0.012543</td>\n",
              "      <td>-0.044156</td>\n",
              "      <td>0.000872</td>\n",
              "      <td>-0.012685</td>\n",
              "      <td>0.015172</td>\n",
              "      <td>-0.006310</td>\n",
              "      <td>-0.011786</td>\n",
              "      <td>-0.002439</td>\n",
              "      <td>-0.010081</td>\n",
              "      <td>0.016553</td>\n",
              "      <td>0.029774</td>\n",
              "    </tr>\n",
              "    <tr>\n",
              "      <th>2019-06-26</th>\n",
              "      <td>0.041063</td>\n",
              "      <td>-0.008043</td>\n",
              "      <td>0.007949</td>\n",
              "      <td>0.016235</td>\n",
              "      <td>-0.019042</td>\n",
              "      <td>0.009129</td>\n",
              "      <td>-0.041977</td>\n",
              "      <td>0.049456</td>\n",
              "      <td>0.002403</td>\n",
              "      <td>-0.007592</td>\n",
              "      <td>0.002776</td>\n",
              "      <td>-0.002858</td>\n",
              "      <td>0.019235</td>\n",
              "      <td>-0.008911</td>\n",
              "      <td>-0.043559</td>\n",
              "      <td>0.001095</td>\n",
              "      <td>-0.011265</td>\n",
              "      <td>0.013400</td>\n",
              "      <td>-0.006670</td>\n",
              "      <td>-0.011338</td>\n",
              "      <td>-0.003150</td>\n",
              "      <td>-0.009871</td>\n",
              "      <td>-0.005216</td>\n",
              "      <td>0.029376</td>\n",
              "    </tr>\n",
              "    <tr>\n",
              "      <th>2019-06-27</th>\n",
              "      <td>0.041568</td>\n",
              "      <td>-0.008132</td>\n",
              "      <td>0.002954</td>\n",
              "      <td>0.020112</td>\n",
              "      <td>-0.017458</td>\n",
              "      <td>0.002719</td>\n",
              "      <td>-0.042201</td>\n",
              "      <td>0.049402</td>\n",
              "      <td>0.002352</td>\n",
              "      <td>-0.007570</td>\n",
              "      <td>0.002646</td>\n",
              "      <td>-0.003038</td>\n",
              "      <td>0.020693</td>\n",
              "      <td>-0.008321</td>\n",
              "      <td>-0.042927</td>\n",
              "      <td>0.005310</td>\n",
              "      <td>-0.007136</td>\n",
              "      <td>0.008273</td>\n",
              "      <td>-0.006502</td>\n",
              "      <td>-0.009657</td>\n",
              "      <td>-0.004408</td>\n",
              "      <td>-0.008870</td>\n",
              "      <td>-0.005576</td>\n",
              "      <td>0.029613</td>\n",
              "    </tr>\n",
              "  </tbody>\n",
              "</table>\n",
              "</div>"
            ],
            "text/plain": [
              "            OriginalData_0  OriginalData_1  ...  Others_0  Others_1\n",
              "timestamp                                   ...                    \n",
              "2019-06-21        0.041027       -0.008018  ...  0.000857  0.030288\n",
              "2019-06-24        0.081197        0.226276  ...  0.001548  0.030199\n",
              "2019-06-25        0.040478       -0.007935  ...  0.016553  0.029774\n",
              "2019-06-26        0.041063       -0.008043  ... -0.005216  0.029376\n",
              "2019-06-27        0.041568       -0.008132  ... -0.005576  0.029613\n",
              "\n",
              "[5 rows x 24 columns]"
            ]
          },
          "metadata": {
            "tags": []
          },
          "execution_count": 39
        }
      ]
    },
    {
      "cell_type": "markdown",
      "metadata": {
        "id": "WA8LlyivEDjH",
        "colab_type": "text"
      },
      "source": [
        "### Create Model Data/Calculate Y\n",
        "\n",
        "* cumulative return over a period\n",
        "* 14-day ema /50-day ema cross-overs\n"
      ]
    },
    {
      "cell_type": "code",
      "metadata": {
        "id": "jxnW1yhCEB1S",
        "colab_type": "code",
        "outputId": "35bba5d9-3a86-4241-edf2-9ae5f0ea8780",
        "colab": {
          "base_uri": "https://localhost:8080/",
          "height": 170
        }
      },
      "source": [
        "price_change = etf.adjusted_close/etf.adjusted_close.shift(1) -1  # adj. close change per day\n",
        "price_change.describe()"
      ],
      "execution_count": 43,
      "outputs": [
        {
          "output_type": "execute_result",
          "data": {
            "text/plain": [
              "count    5108.000000\n",
              "mean        0.000431\n",
              "std         0.017490\n",
              "min        -0.092865\n",
              "25%        -0.006582\n",
              "50%         0.000970\n",
              "75%         0.007949\n",
              "max         0.168412\n",
              "Name: adjusted_close, dtype: float64"
            ]
          },
          "metadata": {
            "tags": []
          },
          "execution_count": 43
        }
      ]
    },
    {
      "cell_type": "code",
      "metadata": {
        "id": "fs0xR2yZOJEZ",
        "colab_type": "code",
        "outputId": "2f7815ac-46cc-4898-c1b1-654f1e533b47",
        "colab": {
          "base_uri": "https://localhost:8080/",
          "height": 136
        }
      },
      "source": [
        "price_change.tail()"
      ],
      "execution_count": 44,
      "outputs": [
        {
          "output_type": "execute_result",
          "data": {
            "text/plain": [
              "timestamp\n",
              "2019-06-21   -0.001483\n",
              "2019-06-24    0.000030\n",
              "2019-06-25   -0.017166\n",
              "2019-06-26    0.004650\n",
              "2019-06-27    0.005006\n",
              "Name: adjusted_close, dtype: float64"
            ]
          },
          "metadata": {
            "tags": []
          },
          "execution_count": 44
        }
      ]
    },
    {
      "cell_type": "code",
      "metadata": {
        "id": "RKPrUI5ANKuO",
        "colab_type": "code",
        "outputId": "b55a591c-ba54-458b-9d99-6070a2156262",
        "colab": {
          "base_uri": "https://localhost:8080/",
          "height": 236
        }
      },
      "source": [
        "# plot\n",
        "spine_color = '#808080'\n",
        "grid_color = '#D3D3D3'\n",
        "\n",
        "fig = plt.figure(figsize=(12,10))\n",
        "plt.style.use('seaborn-white')\n",
        "\n",
        "ax1 = plt.subplot2grid((3,1), (0,0), rowspan=1, colspan=3)\n",
        "ax1.plot(price_change,color='aquamarine')\n",
        "ax1.axes.get_xaxis().set_visible(True)\n",
        "ax1.set_ylabel('', color = 'black')\n",
        "ax1.set_title('Price Change')"
      ],
      "execution_count": 45,
      "outputs": [
        {
          "output_type": "execute_result",
          "data": {
            "text/plain": [
              "Text(0.5, 1.0, 'Price Change')"
            ]
          },
          "metadata": {
            "tags": []
          },
          "execution_count": 45
        },
        {
          "output_type": "display_data",
          "data": {
            "image/png": "[encoded data removed]",
            "text/plain": [
              "<Figure size 864x720 with 1 Axes>"
            ]
          },
          "metadata": {
            "tags": []
          }
        }
      ]
    },
    {
      "cell_type": "code",
      "metadata": {
        "id": "UL0DoF8uEBqf",
        "colab_type": "code",
        "colab": {}
      },
      "source": [
        "# \n",
        "\n",
        "def xdata(data, lookback):\n",
        "    \n",
        "  return data[lookback:]\n",
        "  \n",
        "  \n",
        "\n",
        "def ydata(data, long, short, lookback, window, threshold=0.03):\n",
        "  \n",
        "  '''\n",
        "  threshold=0.03 ~ 2 x standard deviation\n",
        "  \n",
        "  '''\n",
        "  \n",
        "  print('Caulcated Price Change in', window,' period and {}/{}-Day Cross-Overs'.format(short, long))\n",
        "  print('Look back:', lookback, 'Window: ', window,' Short: ', short, 'Long:', long)\n",
        "  \n",
        "  if window > long:\n",
        "    window=long\n",
        "  \n",
        "  ema_short = data.adjusted_close.ewm(span=short).mean() # moving average\n",
        "  ema_long  = data.adjusted_close.ewm(span=long).mean()\n",
        "  #print((ema_short/ema_long).describe())\n",
        "  \n",
        "  #price_rise = np.where(data.adjusted_close/data.adjusted_close.shift(window) - 1 < -threshold, 1,\n",
        "  #                      np.where(data.adjusted_close/data.adjusted_close.shift(window) - 1 > threshold, 2, 0))\n",
        "  \n",
        "  rise = data.adjusted_close/data.adjusted_close.shift(window) - 1 # price change within window\n",
        "  cross = ema_short/ema_long  # find \n",
        "  \n",
        "  cross_over = np.where(cross - 1 > threshold, 2, np.where(cross - 1 < -threshold, 1, 0))\n",
        "  price_rise = np.where(rise < -threshold, 1, np.where(rise > threshold, 2, 0))\n",
        "  \n",
        "  y = pd.DataFrame()\n",
        "  y['price_rise'] = price_rise\n",
        "  y['cross_over'] = cross_over\n",
        "  y['adj_close']  =data.adjusted_close.values\n",
        "  #y['cross'] = cross.values\n",
        "  #y['rise'] = rise.values\n",
        "  \n",
        "  print(y.groupby('price_rise').count())\n",
        "  print(y.groupby('cross_over').count())\n",
        "  \n",
        "  return y\n",
        "  "
      ],
      "execution_count": 0,
      "outputs": []
    },
    {
      "cell_type": "code",
      "metadata": {
        "id": "MwqakB6dRq2t",
        "colab_type": "code",
        "outputId": "4cc257eb-1729-4c4f-820f-47ce674bc786",
        "colab": {
          "base_uri": "https://localhost:8080/",
          "height": 532
        }
      },
      "source": [
        "\n",
        "window = 3\n",
        "long = 50\n",
        "short = 14\n",
        "lookback=50\n",
        "\n",
        "y_label = ydata(etf, long, short, lookback, window, 0.025)\n",
        "print(len(y_label), y_label.shape)\n",
        "print(y_label.head(15))\n"
      ],
      "execution_count": 0,
      "outputs": [
        {
          "output_type": "stream",
          "text": [
            "Caulcated Price Change in 3  period and 14/50-Day Cross-Overs\n",
            "Look back: 50 Window:  3  Short:  14 Long: 50\n",
            "            cross_over  adj_close\n",
            "price_rise                       \n",
            "0                 3636       3636\n",
            "1                  567        567\n",
            "2                  598        598\n",
            "            price_rise  adj_close\n",
            "cross_over                       \n",
            "0                 3203       3203\n",
            "1                  639        639\n",
            "2                  959        959\n",
            "4801 (4801, 3)\n",
            "    price_rise  cross_over  adj_close\n",
            "0            0           0    35.6037\n",
            "1            0           0    36.9159\n",
            "2            0           0    37.2819\n",
            "3            2           0    37.8893\n",
            "4            2           0    39.8712\n",
            "5            2           0    39.7154\n",
            "6            2           0    40.1048\n",
            "7            0           0    40.1437\n",
            "8            0           0    40.0659\n",
            "9            0           0    40.7667\n",
            "10           0           0    39.5597\n",
            "11           0           0    40.0659\n",
            "12           0           0    39.8712\n",
            "13           0           0    39.9101\n",
            "14           0           0    39.6765\n"
          ],
          "name": "stdout"
        }
      ]
    },
    {
      "cell_type": "code",
      "metadata": {
        "id": "ljMpmYyo5XJP",
        "colab_type": "code",
        "outputId": "1e9fe019-9b61-436d-a58e-482db153d5fa",
        "colab": {
          "base_uri": "https://localhost:8080/",
          "height": 34
        }
      },
      "source": [
        "etf_pca.shape"
      ],
      "execution_count": 0,
      "outputs": [
        {
          "output_type": "execute_result",
          "data": {
            "text/plain": [
              "(4801, 23)"
            ]
          },
          "metadata": {
            "tags": []
          },
          "execution_count": 19
        }
      ]
    },
    {
      "cell_type": "markdown",
      "metadata": {
        "id": "lTZyB4wyghmd",
        "colab_type": "text"
      },
      "source": [
        "### Create Sequences"
      ]
    },
    {
      "cell_type": "code",
      "metadata": {
        "id": "ehzTuLBBEBxo",
        "colab_type": "code",
        "colab": {}
      },
      "source": [
        "\n",
        "\n",
        "def create_sequence(data,lookback, window):\n",
        "  \n",
        "    xseq = []\n",
        "    \n",
        "    for i in range(lookback, data.shape[0]):\n",
        "      \n",
        "      if i+ window < data.shape[0]:\n",
        "        xseq.append(np.array(data.iloc[i-window:i]))\n",
        "    \n",
        "    print('Created Sequences: length = ', len(xseq) )\n",
        "    return np.array(xseq)\n",
        "  \n",
        "  \n",
        "def split_data(data, sr):\n",
        "  \n",
        "  # sr = sampling rate\n",
        "  \n",
        "  cut = np.int(sr*len(data))\n",
        "  \n",
        "  test = data[-(len(data)-cut):]\n",
        "  train = data[:cut]\n",
        "  \n",
        "  print('Train Samples:', len(train))\n",
        "  print('Test Samples:' , len(test))\n",
        "      \n",
        "  return train, test \n",
        "\n",
        "\n",
        "def build_model_data(x, y, lookback, window):\n",
        "  \n",
        "  xs = create_sequence(x, lookback, window)\n",
        "  ys = y.iloc[lookback+window:lookback+window+len(xs)].to_numpy()\n",
        "\n",
        "  ys_pr = ys[:,0].reshape(len(ys),1)\n",
        "  ys_co = ys[:,1].reshape(len(ys),1)\n",
        "  ys_ac = ys[:,2].reshape(len(ys),1)\n",
        "  \n",
        "  print('Sequence Data:', xs.shape, ys_pr.shape, ys_co.shape)\n",
        "  \n",
        "  return xs, ys_pr, ys_co, ys_ac\n",
        "\n",
        "\n",
        "def split_train_test(x,y,sr):\n",
        "  \n",
        "  # sr = sampling rate for Training set\n",
        "  \n",
        "  train_x, test_x = split_data(x,0.9)\n",
        "  train_y, test_y = split_data(y,0.9)\n",
        "\n",
        "  train_yc = to_categorical(train_y)\n",
        "  test_yc = to_categorical(test_y)\n",
        "  #print(test_yc.shape)\n",
        "  \n",
        "  train_x = train_x.reshape((train_x.shape[0], train_x.shape[1],train_x.shape[2]))\n",
        "  train_yc = train_yc.reshape((train_yc.shape[0], train_yc.shape[1]))\n",
        "  \n",
        "  test_x = test_x.reshape((test_x.shape[0], test_x.shape[1], test_x.shape[2]))\n",
        "  test_yc = test_yc.reshape((test_yc.shape[0], test_yc.shape[1]))\n",
        "  \n",
        "  print('Train/Test -X:', train_x.shape, test_x.shape)\n",
        "  print('Train/Test -Y:', train_yc.shape, test_yc.shape)\n",
        "  \n",
        "  \n",
        "  return train_x, test_x, train_yc, test_yc\n",
        "\n"
      ],
      "execution_count": 0,
      "outputs": []
    },
    {
      "cell_type": "code",
      "metadata": {
        "id": "oM7K_2unmXWo",
        "colab_type": "code",
        "outputId": "c985897e-58e7-4b45-d905-8dfcff4c1016",
        "colab": {
          "base_uri": "https://localhost:8080/",
          "height": 497
        }
      },
      "source": [
        "y_label[55:70]"
      ],
      "execution_count": 0,
      "outputs": [
        {
          "output_type": "execute_result",
          "data": {
            "text/html": [
              "<div>\n",
              "<style scoped>\n",
              "    .dataframe tbody tr th:only-of-type {\n",
              "        vertical-align: middle;\n",
              "    }\n",
              "\n",
              "    .dataframe tbody tr th {\n",
              "        vertical-align: top;\n",
              "    }\n",
              "\n",
              "    .dataframe thead th {\n",
              "        text-align: right;\n",
              "    }\n",
              "</style>\n",
              "<table border=\"1\" class=\"dataframe\">\n",
              "  <thead>\n",
              "    <tr style=\"text-align: right;\">\n",
              "      <th></th>\n",
              "      <th>price_rise</th>\n",
              "      <th>cross_over</th>\n",
              "      <th>adj_close</th>\n",
              "    </tr>\n",
              "  </thead>\n",
              "  <tbody>\n",
              "    <tr>\n",
              "      <th>55</th>\n",
              "      <td>0</td>\n",
              "      <td>0</td>\n",
              "      <td>39.6600</td>\n",
              "    </tr>\n",
              "    <tr>\n",
              "      <th>56</th>\n",
              "      <td>0</td>\n",
              "      <td>0</td>\n",
              "      <td>39.8938</td>\n",
              "    </tr>\n",
              "    <tr>\n",
              "      <th>57</th>\n",
              "      <td>0</td>\n",
              "      <td>0</td>\n",
              "      <td>40.2444</td>\n",
              "    </tr>\n",
              "    <tr>\n",
              "      <th>58</th>\n",
              "      <td>0</td>\n",
              "      <td>0</td>\n",
              "      <td>40.1665</td>\n",
              "    </tr>\n",
              "    <tr>\n",
              "      <th>59</th>\n",
              "      <td>0</td>\n",
              "      <td>0</td>\n",
              "      <td>40.3223</td>\n",
              "    </tr>\n",
              "    <tr>\n",
              "      <th>60</th>\n",
              "      <td>0</td>\n",
              "      <td>0</td>\n",
              "      <td>40.2444</td>\n",
              "    </tr>\n",
              "    <tr>\n",
              "      <th>61</th>\n",
              "      <td>0</td>\n",
              "      <td>0</td>\n",
              "      <td>40.2054</td>\n",
              "    </tr>\n",
              "    <tr>\n",
              "      <th>62</th>\n",
              "      <td>0</td>\n",
              "      <td>0</td>\n",
              "      <td>40.7898</td>\n",
              "    </tr>\n",
              "    <tr>\n",
              "      <th>63</th>\n",
              "      <td>0</td>\n",
              "      <td>0</td>\n",
              "      <td>40.9457</td>\n",
              "    </tr>\n",
              "    <tr>\n",
              "      <th>64</th>\n",
              "      <td>0</td>\n",
              "      <td>0</td>\n",
              "      <td>41.0236</td>\n",
              "    </tr>\n",
              "    <tr>\n",
              "      <th>65</th>\n",
              "      <td>0</td>\n",
              "      <td>0</td>\n",
              "      <td>41.4132</td>\n",
              "    </tr>\n",
              "    <tr>\n",
              "      <th>66</th>\n",
              "      <td>0</td>\n",
              "      <td>0</td>\n",
              "      <td>41.4521</td>\n",
              "    </tr>\n",
              "    <tr>\n",
              "      <th>67</th>\n",
              "      <td>0</td>\n",
              "      <td>0</td>\n",
              "      <td>41.8807</td>\n",
              "    </tr>\n",
              "    <tr>\n",
              "      <th>68</th>\n",
              "      <td>0</td>\n",
              "      <td>0</td>\n",
              "      <td>42.2313</td>\n",
              "    </tr>\n",
              "    <tr>\n",
              "      <th>69</th>\n",
              "      <td>0</td>\n",
              "      <td>0</td>\n",
              "      <td>41.9196</td>\n",
              "    </tr>\n",
              "  </tbody>\n",
              "</table>\n",
              "</div>"
            ],
            "text/plain": [
              "    price_rise  cross_over  adj_close\n",
              "55           0           0    39.6600\n",
              "56           0           0    39.8938\n",
              "57           0           0    40.2444\n",
              "58           0           0    40.1665\n",
              "59           0           0    40.3223\n",
              "60           0           0    40.2444\n",
              "61           0           0    40.2054\n",
              "62           0           0    40.7898\n",
              "63           0           0    40.9457\n",
              "64           0           0    41.0236\n",
              "65           0           0    41.4132\n",
              "66           0           0    41.4521\n",
              "67           0           0    41.8807\n",
              "68           0           0    42.2313\n",
              "69           0           0    41.9196"
            ]
          },
          "metadata": {
            "tags": []
          },
          "execution_count": 21
        }
      ]
    },
    {
      "cell_type": "markdown",
      "metadata": {
        "id": "RdtCjjbgAGoP",
        "colab_type": "text"
      },
      "source": [
        "###Model Building - 50-Days Timesteps"
      ]
    },
    {
      "cell_type": "code",
      "metadata": {
        "id": "V0Bdm0zZeIxT",
        "colab_type": "code",
        "outputId": "a0448816-b366-4118-9ac6-12794bbab05d",
        "colab": {
          "base_uri": "https://localhost:8080/",
          "height": 158
        }
      },
      "source": [
        "# Create Sequences and Split to Train and Test\n",
        "# Split into Train and Test\n",
        "# Timesteps = 50 days\n",
        "\n",
        "\n",
        "window = 3\n",
        "long = 50\n",
        "short = 14\n",
        "lookback=50\n",
        "\n",
        "Xs, Ypr, Yco, Yac =  build_model_data(etf_pca, y_label, lookback, window)\n",
        "train_x, test_x, train_y, test_y = split_train_test(Xs,Yco,0.9)"
      ],
      "execution_count": 0,
      "outputs": [
        {
          "output_type": "stream",
          "text": [
            "Created Sequences: length =  4748\n",
            "Sequence Data: (4748, 3, 23) (4748, 1) (4748, 1)\n",
            "Train Samples: 4273\n",
            "Test Samples: 475\n",
            "Train Samples: 4273\n",
            "Test Samples: 475\n",
            "Train/Test -X: (4273, 3, 23) (475, 3, 23)\n",
            "Train/Test -Y: (4273, 3) (475, 3)\n"
          ],
          "name": "stdout"
        }
      ]
    },
    {
      "cell_type": "code",
      "metadata": {
        "id": "b12g9bBEgYdA",
        "colab_type": "code",
        "outputId": "8ae28a7c-4c4c-48ed-f0ec-f562c9332704",
        "colab": {
          "base_uri": "https://localhost:8080/",
          "height": 1000
        }
      },
      "source": [
        "\n",
        "\n",
        "# LSTM network design for Classification prediction\n",
        "# Timesteps = 50 days\n",
        "\n",
        "model = Sequential()\n",
        "model.add(LSTM(72, return_sequences= True, kernel_initializer='uniform', input_shape=(train_x.shape[1], train_x.shape[2])))\n",
        "model.add(Dropout(0.25))\n",
        "model.add(LSTM(48, return_sequences= True, kernel_initializer='uniform'))\n",
        "model.add(Dropout(0.25))\n",
        "model.add(LSTM(24, return_sequences= False))\n",
        "model.add(Dropout(0.2))\n",
        "model.add(Dense(3, activation='softmax'))\n",
        "#model.add(Dense(1))\n",
        "#model.compile(loss='mse', optimizer='adam', metrics=['acc'])\n",
        "model.compile(optimizer='adam', loss='categorical_crossentropy', metrics=['accuracy'])\n",
        "\n",
        "# fit network\n",
        "epoch_history = model.fit(train_x, train_y, epochs=50, batch_size=32, validation_data=(test_x, test_y), verbose=2, shuffle=False)\n",
        "\n",
        "model.evaluate(test_x,test_y)\n"
      ],
      "execution_count": 0,
      "outputs": [
        {
          "output_type": "stream",
          "text": [
            "WARNING: Logging before flag parsing goes to stderr.\n",
            "W0713 11:02:10.008611 139888686638976 deprecation_wrapper.py:119] From /usr/local/lib/python3.6/dist-packages/keras/backend/tensorflow_backend.py:74: The name tf.get_default_graph is deprecated. Please use tf.compat.v1.get_default_graph instead.\n",
            "\n",
            "W0713 11:02:10.024862 139888686638976 deprecation_wrapper.py:119] From /usr/local/lib/python3.6/dist-packages/keras/backend/tensorflow_backend.py:517: The name tf.placeholder is deprecated. Please use tf.compat.v1.placeholder instead.\n",
            "\n",
            "W0713 11:02:10.027078 139888686638976 deprecation_wrapper.py:119] From /usr/local/lib/python3.6/dist-packages/keras/backend/tensorflow_backend.py:4138: The name tf.random_uniform is deprecated. Please use tf.random.uniform instead.\n",
            "\n",
            "W0713 11:02:10.214745 139888686638976 deprecation_wrapper.py:119] From /usr/local/lib/python3.6/dist-packages/keras/backend/tensorflow_backend.py:133: The name tf.placeholder_with_default is deprecated. Please use tf.compat.v1.placeholder_with_default instead.\n",
            "\n",
            "W0713 11:02:10.222856 139888686638976 deprecation.py:506] From /usr/local/lib/python3.6/dist-packages/keras/backend/tensorflow_backend.py:3445: calling dropout (from tensorflow.python.ops.nn_ops) with keep_prob is deprecated and will be removed in a future version.\n",
            "Instructions for updating:\n",
            "Please use `rate` instead of `keep_prob`. Rate should be set to `rate = 1 - keep_prob`.\n",
            "W0713 11:02:10.612194 139888686638976 deprecation_wrapper.py:119] From /usr/local/lib/python3.6/dist-packages/keras/optimizers.py:790: The name tf.train.Optimizer is deprecated. Please use tf.compat.v1.train.Optimizer instead.\n",
            "\n",
            "W0713 11:02:10.633938 139888686638976 deprecation_wrapper.py:119] From /usr/local/lib/python3.6/dist-packages/keras/backend/tensorflow_backend.py:3295: The name tf.log is deprecated. Please use tf.math.log instead.\n",
            "\n",
            "W0713 11:02:10.760350 139888686638976 deprecation.py:323] From /usr/local/lib/python3.6/dist-packages/tensorflow/python/ops/math_grad.py:1250: add_dispatch_support.<locals>.wrapper (from tensorflow.python.ops.array_ops) is deprecated and will be removed in a future version.\n",
            "Instructions for updating:\n",
            "Use tf.where in 2.0, which has the same broadcast rule as np.where\n"
          ],
          "name": "stderr"
        },
        {
          "output_type": "stream",
          "text": [
            "Train on 4273 samples, validate on 475 samples\n",
            "Epoch 1/50\n",
            " - 5s - loss: 0.9783 - acc: 0.6459 - val_loss: 0.7248 - val_acc: 0.7579\n",
            "Epoch 2/50\n",
            " - 2s - loss: 0.9206 - acc: 0.6529 - val_loss: 0.7269 - val_acc: 0.7579\n",
            "Epoch 3/50\n",
            " - 3s - loss: 0.9094 - acc: 0.6529 - val_loss: 0.7272 - val_acc: 0.7579\n",
            "Epoch 4/50\n",
            " - 3s - loss: 0.9029 - acc: 0.6529 - val_loss: 0.7268 - val_acc: 0.7579\n",
            "Epoch 5/50\n",
            " - 2s - loss: 0.8960 - acc: 0.6529 - val_loss: 0.7247 - val_acc: 0.7579\n",
            "Epoch 6/50\n",
            " - 3s - loss: 0.8861 - acc: 0.6529 - val_loss: 0.7194 - val_acc: 0.7579\n",
            "Epoch 7/50\n",
            " - 4s - loss: 0.8688 - acc: 0.6513 - val_loss: 0.6883 - val_acc: 0.7579\n",
            "Epoch 8/50\n",
            " - 4s - loss: 0.7937 - acc: 0.6597 - val_loss: 0.5451 - val_acc: 0.7811\n",
            "Epoch 9/50\n",
            " - 3s - loss: 0.6998 - acc: 0.6857 - val_loss: 0.4445 - val_acc: 0.8105\n",
            "Epoch 10/50\n",
            " - 3s - loss: 0.6425 - acc: 0.6937 - val_loss: 0.4118 - val_acc: 0.8168\n",
            "Epoch 11/50\n",
            " - 3s - loss: 0.5944 - acc: 0.7185 - val_loss: 0.3640 - val_acc: 0.8274\n",
            "Epoch 12/50\n",
            " - 3s - loss: 0.5487 - acc: 0.7377 - val_loss: 0.3194 - val_acc: 0.8463\n",
            "Epoch 13/50\n",
            " - 3s - loss: 0.5250 - acc: 0.7594 - val_loss: 0.2860 - val_acc: 0.8695\n",
            "Epoch 14/50\n",
            " - 3s - loss: 0.5034 - acc: 0.7697 - val_loss: 0.2767 - val_acc: 0.8716\n",
            "Epoch 15/50\n",
            " - 3s - loss: 0.4805 - acc: 0.7840 - val_loss: 0.2747 - val_acc: 0.8695\n",
            "Epoch 16/50\n",
            " - 3s - loss: 0.4689 - acc: 0.7941 - val_loss: 0.2714 - val_acc: 0.8737\n",
            "Epoch 17/50\n",
            " - 4s - loss: 0.4586 - acc: 0.8034 - val_loss: 0.2654 - val_acc: 0.8779\n",
            "Epoch 18/50\n",
            " - 4s - loss: 0.4417 - acc: 0.8048 - val_loss: 0.2632 - val_acc: 0.8779\n",
            "Epoch 19/50\n",
            " - 4s - loss: 0.4366 - acc: 0.8156 - val_loss: 0.2599 - val_acc: 0.8842\n",
            "Epoch 20/50\n",
            " - 4s - loss: 0.4293 - acc: 0.8179 - val_loss: 0.2552 - val_acc: 0.8884\n",
            "Epoch 21/50\n",
            " - 4s - loss: 0.4195 - acc: 0.8193 - val_loss: 0.2545 - val_acc: 0.8926\n",
            "Epoch 22/50\n",
            " - 4s - loss: 0.4146 - acc: 0.8238 - val_loss: 0.2538 - val_acc: 0.8842\n",
            "Epoch 23/50\n",
            " - 4s - loss: 0.4143 - acc: 0.8224 - val_loss: 0.2621 - val_acc: 0.8863\n",
            "Epoch 24/50\n",
            " - 4s - loss: 0.4098 - acc: 0.8224 - val_loss: 0.2612 - val_acc: 0.8863\n",
            "Epoch 25/50\n",
            " - 5s - loss: 0.4015 - acc: 0.8280 - val_loss: 0.2648 - val_acc: 0.8821\n",
            "Epoch 26/50\n",
            " - 5s - loss: 0.4007 - acc: 0.8310 - val_loss: 0.2516 - val_acc: 0.8926\n",
            "Epoch 27/50\n",
            " - 5s - loss: 0.3978 - acc: 0.8264 - val_loss: 0.2535 - val_acc: 0.8863\n",
            "Epoch 28/50\n",
            " - 5s - loss: 0.3981 - acc: 0.8301 - val_loss: 0.2529 - val_acc: 0.8884\n",
            "Epoch 29/50\n",
            " - 5s - loss: 0.3947 - acc: 0.8338 - val_loss: 0.2523 - val_acc: 0.8926\n",
            "Epoch 30/50\n",
            " - 5s - loss: 0.3920 - acc: 0.8369 - val_loss: 0.2494 - val_acc: 0.8926\n",
            "Epoch 31/50\n",
            " - 5s - loss: 0.3918 - acc: 0.8278 - val_loss: 0.2490 - val_acc: 0.8905\n",
            "Epoch 32/50\n",
            " - 5s - loss: 0.3884 - acc: 0.8364 - val_loss: 0.2522 - val_acc: 0.8947\n",
            "Epoch 33/50\n",
            " - 5s - loss: 0.3895 - acc: 0.8320 - val_loss: 0.2460 - val_acc: 0.8947\n",
            "Epoch 34/50\n",
            " - 5s - loss: 0.3817 - acc: 0.8355 - val_loss: 0.2457 - val_acc: 0.8968\n",
            "Epoch 35/50\n",
            " - 5s - loss: 0.3805 - acc: 0.8350 - val_loss: 0.2464 - val_acc: 0.8947\n",
            "Epoch 36/50\n",
            " - 5s - loss: 0.3787 - acc: 0.8378 - val_loss: 0.2343 - val_acc: 0.9053\n",
            "Epoch 37/50\n",
            " - 5s - loss: 0.3777 - acc: 0.8423 - val_loss: 0.2369 - val_acc: 0.9011\n",
            "Epoch 38/50\n",
            " - 5s - loss: 0.3697 - acc: 0.8406 - val_loss: 0.2440 - val_acc: 0.8947\n",
            "Epoch 39/50\n",
            " - 5s - loss: 0.3692 - acc: 0.8409 - val_loss: 0.2433 - val_acc: 0.8947\n",
            "Epoch 40/50\n",
            " - 5s - loss: 0.3728 - acc: 0.8392 - val_loss: 0.2369 - val_acc: 0.9011\n",
            "Epoch 41/50\n",
            " - 5s - loss: 0.3678 - acc: 0.8437 - val_loss: 0.2430 - val_acc: 0.8947\n",
            "Epoch 42/50\n",
            " - 5s - loss: 0.3647 - acc: 0.8434 - val_loss: 0.2332 - val_acc: 0.9011\n",
            "Epoch 43/50\n",
            " - 5s - loss: 0.3609 - acc: 0.8469 - val_loss: 0.2216 - val_acc: 0.9074\n",
            "Epoch 44/50\n",
            " - 5s - loss: 0.3600 - acc: 0.8430 - val_loss: 0.2223 - val_acc: 0.9116\n",
            "Epoch 45/50\n",
            " - 5s - loss: 0.3625 - acc: 0.8474 - val_loss: 0.2318 - val_acc: 0.9053\n",
            "Epoch 46/50\n",
            " - 3s - loss: 0.3540 - acc: 0.8472 - val_loss: 0.2213 - val_acc: 0.9116\n",
            "Epoch 47/50\n",
            " - 3s - loss: 0.3499 - acc: 0.8516 - val_loss: 0.2174 - val_acc: 0.9137\n",
            "Epoch 48/50\n",
            " - 3s - loss: 0.3586 - acc: 0.8455 - val_loss: 0.2222 - val_acc: 0.9137\n",
            "Epoch 49/50\n",
            " - 2s - loss: 0.3545 - acc: 0.8484 - val_loss: 0.2201 - val_acc: 0.9158\n",
            "Epoch 50/50\n",
            " - 2s - loss: 0.3477 - acc: 0.8502 - val_loss: 0.2123 - val_acc: 0.9200\n",
            "475/475 [==============================] - 0s 228us/step\n"
          ],
          "name": "stdout"
        },
        {
          "output_type": "execute_result",
          "data": {
            "text/plain": [
              "[0.21230251116187948, 0.92]"
            ]
          },
          "metadata": {
            "tags": []
          },
          "execution_count": 23
        }
      ]
    },
    {
      "cell_type": "code",
      "metadata": {
        "id": "zIgABQuX__5D",
        "colab_type": "code",
        "outputId": "d607de95-30f1-481d-9e29-5401f1411472",
        "colab": {
          "base_uri": "https://localhost:8080/",
          "height": 442
        }
      },
      "source": [
        "\n",
        "# Loss History Chart\n",
        "\n",
        "spine_color = '#808080'\n",
        "grid_color = '#D3D3D3'\n",
        "\n",
        "fig = plt.figure(figsize=(12,7))\n",
        "\n",
        "plt.style.use('seaborn-white')\n",
        "\n",
        "# plot history\n",
        "plt.plot(epoch_history.history['loss'], label='train')\n",
        "plt.plot(epoch_history.history['val_loss'], label='test')\n",
        "plt.legend()\n"
      ],
      "execution_count": 0,
      "outputs": [
        {
          "output_type": "execute_result",
          "data": {
            "text/plain": [
              "<matplotlib.legend.Legend at 0x7f39f0d8a2b0>"
            ]
          },
          "metadata": {
            "tags": []
          },
          "execution_count": 24
        },
        {
          "output_type": "display_data",
          "data": {
            "image/png": "[encoded data removed]",
            "text/plain": [
              "<Figure size 864x504 with 1 Axes>"
            ]
          },
          "metadata": {
            "tags": []
          }
        }
      ]
    },
    {
      "cell_type": "code",
      "metadata": {
        "id": "_CFNNPl3_Vye",
        "colab_type": "code",
        "outputId": "f2b6638e-a4d4-4064-a9c7-ff66b07dddc9",
        "colab": {
          "base_uri": "https://localhost:8080/",
          "height": 70
        }
      },
      "source": [
        "# Model Evaluation - Confusion Matrix\n",
        "\n",
        "\n",
        "y_pred = model.predict(test_x)\n",
        "matrix_50 = confusion_matrix(test_y.argmax(axis=1), y_pred.argmax(axis=1))\n",
        "y_pred_50 = y_pred\n",
        "matrix_50\n"
      ],
      "execution_count": 0,
      "outputs": [
        {
          "output_type": "execute_result",
          "data": {
            "text/plain": [
              "array([[353,   1,   6],\n",
              "       [ 13,  50,   0],\n",
              "       [ 18,   0,  34]])"
            ]
          },
          "metadata": {
            "tags": []
          },
          "execution_count": 25
        }
      ]
    },
    {
      "cell_type": "markdown",
      "metadata": {
        "id": "0LvtyBkfsSQ8",
        "colab_type": "text"
      },
      "source": [
        "### Model Building - 20-Days TimeSteps"
      ]
    },
    {
      "cell_type": "code",
      "metadata": {
        "id": "zwq_sFIudbFE",
        "colab_type": "code",
        "outputId": "5cee3a1d-c5e4-41ae-913c-eff80d62c19d",
        "colab": {
          "base_uri": "https://localhost:8080/",
          "height": 158
        }
      },
      "source": [
        "# Create Sequences and Split to Train and Test\n",
        "# Split into Train and Test\n",
        "# Timesteps = 20 days\n",
        "\n",
        "\n",
        "window = 3\n",
        "long = 50\n",
        "short = 14\n",
        "lookback=20\n",
        "\n",
        "Xs, Ypr, Yco, Yac =  build_model_data(etf_pca, y_label, lookback, window)\n",
        "train_x, test_x, train_y, test_y = split_train_test(Xs,Yco,0.9)"
      ],
      "execution_count": 0,
      "outputs": [
        {
          "output_type": "stream",
          "text": [
            "Created Sequences: length =  4778\n",
            "Sequence Data: (4778, 3, 23) (4778, 1) (4778, 1)\n",
            "Train Samples: 4300\n",
            "Test Samples: 478\n",
            "Train Samples: 4300\n",
            "Test Samples: 478\n",
            "Train/Test -X: (4300, 3, 23) (478, 3, 23)\n",
            "Train/Test -Y: (4300, 3) (478, 3)\n"
          ],
          "name": "stdout"
        }
      ]
    },
    {
      "cell_type": "code",
      "metadata": {
        "id": "p81RQFg4dbIs",
        "colab_type": "code",
        "outputId": "f951f5d6-5f87-4b50-e3ec-bcafd287a613",
        "colab": {
          "base_uri": "https://localhost:8080/",
          "height": 1000
        }
      },
      "source": [
        "# LSTM network design for Classification prediction\n",
        "# Timesteps = 20 days\n",
        "\n",
        "model = Sequential()\n",
        "model.add(LSTM(72, return_sequences= True, kernel_initializer='uniform', input_shape=(train_x.shape[1], train_x.shape[2])))\n",
        "model.add(Dropout(0.25))\n",
        "model.add(LSTM(48, return_sequences= True, kernel_initializer='uniform'))\n",
        "model.add(Dropout(0.25))\n",
        "model.add(LSTM(24, return_sequences= False))\n",
        "model.add(Dropout(0.2))\n",
        "model.add(Dense(3, activation='softmax'))\n",
        "#model.add(Dense(1))\n",
        "#model.compile(loss='mse', optimizer='adam', metrics=['acc'])\n",
        "model.compile(optimizer='adam', loss='categorical_crossentropy', metrics=['accuracy'])\n",
        "\n",
        "# fit network\n",
        "epoch_history = model.fit(train_x, train_y, epochs=50, batch_size=32, validation_data=(test_x, test_y), verbose=2, shuffle=False)\n",
        "\n",
        "model.evaluate(test_x,test_y)"
      ],
      "execution_count": 0,
      "outputs": [
        {
          "output_type": "stream",
          "text": [
            "Train on 4300 samples, validate on 478 samples\n",
            "Epoch 1/50\n",
            " - 5s - loss: 0.9752 - acc: 0.6498 - val_loss: 0.7259 - val_acc: 0.7594\n",
            "Epoch 2/50\n",
            " - 3s - loss: 0.9140 - acc: 0.6551 - val_loss: 0.7210 - val_acc: 0.7594\n",
            "Epoch 3/50\n",
            " - 3s - loss: 0.9054 - acc: 0.6551 - val_loss: 0.7229 - val_acc: 0.7594\n",
            "Epoch 4/50\n",
            " - 3s - loss: 0.9014 - acc: 0.6551 - val_loss: 0.7233 - val_acc: 0.7594\n",
            "Epoch 5/50\n",
            " - 3s - loss: 0.8937 - acc: 0.6551 - val_loss: 0.7223 - val_acc: 0.7594\n",
            "Epoch 6/50\n",
            " - 3s - loss: 0.8886 - acc: 0.6551 - val_loss: 0.7202 - val_acc: 0.7594\n",
            "Epoch 7/50\n",
            " - 3s - loss: 0.8840 - acc: 0.6551 - val_loss: 0.7198 - val_acc: 0.7594\n",
            "Epoch 8/50\n",
            " - 3s - loss: 0.8748 - acc: 0.6537 - val_loss: 0.7276 - val_acc: 0.7594\n",
            "Epoch 9/50\n",
            " - 3s - loss: 0.8614 - acc: 0.6519 - val_loss: 0.7354 - val_acc: 0.7594\n",
            "Epoch 10/50\n",
            " - 3s - loss: 0.8409 - acc: 0.6528 - val_loss: 0.7426 - val_acc: 0.7594\n",
            "Epoch 11/50\n",
            " - 3s - loss: 0.8055 - acc: 0.6707 - val_loss: 0.7319 - val_acc: 0.7678\n",
            "Epoch 12/50\n",
            " - 3s - loss: 0.7630 - acc: 0.6902 - val_loss: 0.6975 - val_acc: 0.7866\n",
            "Epoch 13/50\n",
            " - 3s - loss: 0.7174 - acc: 0.6953 - val_loss: 0.6115 - val_acc: 0.8117\n",
            "Epoch 14/50\n",
            " - 3s - loss: 0.6755 - acc: 0.6984 - val_loss: 0.5176 - val_acc: 0.8264\n",
            "Epoch 15/50\n",
            " - 3s - loss: 0.6401 - acc: 0.6984 - val_loss: 0.4506 - val_acc: 0.8326\n",
            "Epoch 16/50\n",
            " - 3s - loss: 0.6120 - acc: 0.6977 - val_loss: 0.4008 - val_acc: 0.8368\n",
            "Epoch 17/50\n",
            " - 4s - loss: 0.5871 - acc: 0.7047 - val_loss: 0.3458 - val_acc: 0.8347\n",
            "Epoch 18/50\n",
            " - 3s - loss: 0.5570 - acc: 0.7144 - val_loss: 0.3187 - val_acc: 0.8347\n",
            "Epoch 19/50\n",
            " - 3s - loss: 0.5355 - acc: 0.7284 - val_loss: 0.2908 - val_acc: 0.8745\n",
            "Epoch 20/50\n",
            " - 3s - loss: 0.5156 - acc: 0.7558 - val_loss: 0.2805 - val_acc: 0.8996\n",
            "Epoch 21/50\n",
            " - 3s - loss: 0.4994 - acc: 0.7733 - val_loss: 0.2702 - val_acc: 0.8996\n",
            "Epoch 22/50\n",
            " - 3s - loss: 0.4801 - acc: 0.7884 - val_loss: 0.2595 - val_acc: 0.8954\n",
            "Epoch 23/50\n",
            " - 3s - loss: 0.4697 - acc: 0.8012 - val_loss: 0.2512 - val_acc: 0.8975\n",
            "Epoch 24/50\n",
            " - 3s - loss: 0.4613 - acc: 0.7984 - val_loss: 0.2502 - val_acc: 0.8933\n",
            "Epoch 25/50\n",
            " - 3s - loss: 0.4437 - acc: 0.8128 - val_loss: 0.2446 - val_acc: 0.8975\n",
            "Epoch 26/50\n",
            " - 3s - loss: 0.4443 - acc: 0.8116 - val_loss: 0.2495 - val_acc: 0.8975\n",
            "Epoch 27/50\n",
            " - 3s - loss: 0.4376 - acc: 0.8165 - val_loss: 0.2474 - val_acc: 0.8954\n",
            "Epoch 28/50\n",
            " - 4s - loss: 0.4330 - acc: 0.8147 - val_loss: 0.2485 - val_acc: 0.8954\n",
            "Epoch 29/50\n",
            " - 4s - loss: 0.4235 - acc: 0.8200 - val_loss: 0.2476 - val_acc: 0.8954\n",
            "Epoch 30/50\n",
            " - 4s - loss: 0.4150 - acc: 0.8256 - val_loss: 0.2417 - val_acc: 0.8996\n",
            "Epoch 31/50\n",
            " - 4s - loss: 0.4176 - acc: 0.8263 - val_loss: 0.2442 - val_acc: 0.8975\n",
            "Epoch 32/50\n",
            " - 4s - loss: 0.4111 - acc: 0.8281 - val_loss: 0.2388 - val_acc: 0.9038\n",
            "Epoch 33/50\n",
            " - 4s - loss: 0.4084 - acc: 0.8267 - val_loss: 0.2356 - val_acc: 0.9038\n",
            "Epoch 34/50\n",
            " - 4s - loss: 0.4016 - acc: 0.8335 - val_loss: 0.2397 - val_acc: 0.8996\n",
            "Epoch 35/50\n",
            " - 4s - loss: 0.3984 - acc: 0.8312 - val_loss: 0.2407 - val_acc: 0.8996\n",
            "Epoch 36/50\n",
            " - 4s - loss: 0.3943 - acc: 0.8291 - val_loss: 0.2397 - val_acc: 0.8975\n",
            "Epoch 37/50\n",
            " - 5s - loss: 0.3966 - acc: 0.8249 - val_loss: 0.2395 - val_acc: 0.8996\n",
            "Epoch 38/50\n",
            " - 5s - loss: 0.3936 - acc: 0.8342 - val_loss: 0.2316 - val_acc: 0.9038\n",
            "Epoch 39/50\n",
            " - 5s - loss: 0.3814 - acc: 0.8360 - val_loss: 0.2343 - val_acc: 0.8996\n",
            "Epoch 40/50\n",
            " - 5s - loss: 0.3830 - acc: 0.8367 - val_loss: 0.2331 - val_acc: 0.8996\n",
            "Epoch 41/50\n",
            " - 5s - loss: 0.3861 - acc: 0.8386 - val_loss: 0.2263 - val_acc: 0.9017\n",
            "Epoch 42/50\n",
            " - 5s - loss: 0.3775 - acc: 0.8391 - val_loss: 0.2297 - val_acc: 0.9017\n",
            "Epoch 43/50\n",
            " - 5s - loss: 0.3730 - acc: 0.8437 - val_loss: 0.2307 - val_acc: 0.8996\n",
            "Epoch 44/50\n",
            " - 5s - loss: 0.3789 - acc: 0.8412 - val_loss: 0.2256 - val_acc: 0.9079\n",
            "Epoch 45/50\n",
            " - 5s - loss: 0.3690 - acc: 0.8474 - val_loss: 0.2239 - val_acc: 0.9079\n",
            "Epoch 46/50\n",
            " - 5s - loss: 0.3732 - acc: 0.8430 - val_loss: 0.2276 - val_acc: 0.9059\n",
            "Epoch 47/50\n",
            " - 5s - loss: 0.3696 - acc: 0.8451 - val_loss: 0.2163 - val_acc: 0.9079\n",
            "Epoch 48/50\n",
            " - 5s - loss: 0.3583 - acc: 0.8495 - val_loss: 0.2117 - val_acc: 0.9142\n",
            "Epoch 49/50\n",
            " - 5s - loss: 0.3576 - acc: 0.8502 - val_loss: 0.2147 - val_acc: 0.9079\n",
            "Epoch 50/50\n",
            " - 5s - loss: 0.3625 - acc: 0.8467 - val_loss: 0.2193 - val_acc: 0.9038\n",
            "478/478 [==============================] - 0s 436us/step\n"
          ],
          "name": "stdout"
        },
        {
          "output_type": "execute_result",
          "data": {
            "text/plain": [
              "[0.219314228415988, 0.9037656903765691]"
            ]
          },
          "metadata": {
            "tags": []
          },
          "execution_count": 27
        }
      ]
    },
    {
      "cell_type": "code",
      "metadata": {
        "id": "l987W3pLdbMU",
        "colab_type": "code",
        "outputId": "8940bdd9-d2cb-4e88-fbc3-20b9941ac46c",
        "colab": {
          "base_uri": "https://localhost:8080/",
          "height": 442
        }
      },
      "source": [
        "# Loss History Chart\n",
        "\n",
        "spine_color = '#808080'\n",
        "grid_color = '#D3D3D3'\n",
        "\n",
        "fig = plt.figure(figsize=(12,7))\n",
        "\n",
        "plt.style.use('seaborn-white')\n",
        "\n",
        "# plot history\n",
        "plt.plot(epoch_history.history['loss'], label='train')\n",
        "plt.plot(epoch_history.history['val_loss'], label='test')\n",
        "plt.legend()\n"
      ],
      "execution_count": 0,
      "outputs": [
        {
          "output_type": "execute_result",
          "data": {
            "text/plain": [
              "<matplotlib.legend.Legend at 0x7f399b6c88d0>"
            ]
          },
          "metadata": {
            "tags": []
          },
          "execution_count": 28
        },
        {
          "output_type": "display_data",
          "data": {
            "image/png": "[encoded data removed]",
            "text/plain": [
              "<Figure size 864x504 with 1 Axes>"
            ]
          },
          "metadata": {
            "tags": []
          }
        }
      ]
    },
    {
      "cell_type": "code",
      "metadata": {
        "id": "JDRmboWcdbQA",
        "colab_type": "code",
        "outputId": "d2febb9b-bf30-46b3-fb40-c8799008417e",
        "colab": {
          "base_uri": "https://localhost:8080/",
          "height": 70
        }
      },
      "source": [
        "# Model Evaluation - Confusion Matrix\n",
        "\n",
        "\n",
        "y_pred = model.predict(test_x)\n",
        "matrix_20 = confusion_matrix(test_y.argmax(axis=1), y_pred.argmax(axis=1))\n",
        "y_pred_20 = y_pred\n",
        "matrix_20\n"
      ],
      "execution_count": 0,
      "outputs": [
        {
          "output_type": "execute_result",
          "data": {
            "text/plain": [
              "array([[353,   1,   9],\n",
              "       [ 21,  42,   0],\n",
              "       [ 15,   0,  37]])"
            ]
          },
          "metadata": {
            "tags": []
          },
          "execution_count": 29
        }
      ]
    },
    {
      "cell_type": "markdown",
      "metadata": {
        "id": "ncJoJAgyuvhN",
        "colab_type": "text"
      },
      "source": [
        "### Model Building - 14-Days Timesteps"
      ]
    },
    {
      "cell_type": "code",
      "metadata": {
        "id": "opH-sT3gtBb1",
        "colab_type": "code",
        "outputId": "ba9604cd-15df-49e5-cc9a-eaa6076a2c19",
        "colab": {
          "base_uri": "https://localhost:8080/",
          "height": 158
        }
      },
      "source": [
        "# Create Sequences and Split to Train and Test\n",
        "# Split into Train and Test\n",
        "# Timesteps = 14 days\n",
        "\n",
        "\n",
        "window = 5\n",
        "long = 50\n",
        "short = 14\n",
        "lookback= 14\n",
        "\n",
        "Xs, Ypr, Yco, Yac =  build_model_data(etf_pca, y_label, lookback, window)\n",
        "train_x, test_x, train_y, test_y = split_train_test(Xs,Yco,0.9)"
      ],
      "execution_count": 0,
      "outputs": [
        {
          "output_type": "stream",
          "text": [
            "Created Sequences: length =  4782\n",
            "Sequence Data: (4782, 5, 23) (4782, 1) (4782, 1)\n",
            "Train Samples: 4303\n",
            "Test Samples: 479\n",
            "Train Samples: 4303\n",
            "Test Samples: 479\n",
            "Train/Test -X: (4303, 5, 23) (479, 5, 23)\n",
            "Train/Test -Y: (4303, 3) (479, 3)\n"
          ],
          "name": "stdout"
        }
      ]
    },
    {
      "cell_type": "code",
      "metadata": {
        "id": "yCh64lMutBfk",
        "colab_type": "code",
        "outputId": "294fcb1f-7838-4177-e518-01d5051283e5",
        "colab": {
          "base_uri": "https://localhost:8080/",
          "height": 1000
        }
      },
      "source": [
        "# LSTM network design for Classification prediction\n",
        "# Timesteps = 14 days\n",
        "\n",
        "model = Sequential()\n",
        "model.add(LSTM(72, return_sequences= True, kernel_initializer='uniform', input_shape=(train_x.shape[1], train_x.shape[2])))\n",
        "model.add(Dropout(0.25))\n",
        "model.add(LSTM(48, return_sequences= True, kernel_initializer='uniform'))\n",
        "model.add(Dropout(0.25))\n",
        "model.add(LSTM(24, return_sequences= False))\n",
        "model.add(Dropout(0.2))\n",
        "model.add(Dense(3, activation='softmax'))\n",
        "#model.add(Dense(1))\n",
        "#model.compile(loss='mse', optimizer='adam', metrics=['acc'])\n",
        "model.compile(optimizer='adam', loss='categorical_crossentropy', metrics=['accuracy'])\n",
        "\n",
        "# fit network\n",
        "epoch_history = model.fit(train_x, train_y, epochs=50, batch_size=32, validation_data=(test_x, test_y), verbose=2, shuffle=False)\n",
        "\n",
        "model.evaluate(test_x,test_y)"
      ],
      "execution_count": 0,
      "outputs": [
        {
          "output_type": "stream",
          "text": [
            "Train on 4303 samples, validate on 479 samples\n",
            "Epoch 1/50\n",
            " - 12s - loss: 0.9669 - acc: 0.6507 - val_loss: 0.7306 - val_acc: 0.7599\n",
            "Epoch 2/50\n",
            " - 4s - loss: 0.9106 - acc: 0.6554 - val_loss: 0.7231 - val_acc: 0.7599\n",
            "Epoch 3/50\n",
            " - 4s - loss: 0.9025 - acc: 0.6554 - val_loss: 0.7198 - val_acc: 0.7599\n",
            "Epoch 4/50\n",
            " - 4s - loss: 0.8923 - acc: 0.6554 - val_loss: 0.7146 - val_acc: 0.7599\n",
            "Epoch 5/50\n",
            " - 5s - loss: 0.8815 - acc: 0.6537 - val_loss: 0.7032 - val_acc: 0.7599\n",
            "Epoch 6/50\n",
            " - 5s - loss: 0.8580 - acc: 0.6472 - val_loss: 0.6560 - val_acc: 0.7662\n",
            "Epoch 7/50\n",
            " - 4s - loss: 0.7962 - acc: 0.6686 - val_loss: 0.6347 - val_acc: 0.7808\n",
            "Epoch 8/50\n",
            " - 4s - loss: 0.7540 - acc: 0.6758 - val_loss: 0.5726 - val_acc: 0.8079\n",
            "Epoch 9/50\n",
            " - 4s - loss: 0.7209 - acc: 0.6856 - val_loss: 0.5194 - val_acc: 0.8163\n",
            "Epoch 10/50\n",
            " - 4s - loss: 0.6946 - acc: 0.6858 - val_loss: 0.4825 - val_acc: 0.8288\n",
            "Epoch 11/50\n",
            " - 4s - loss: 0.6723 - acc: 0.6798 - val_loss: 0.4545 - val_acc: 0.8351\n",
            "Epoch 12/50\n",
            " - 4s - loss: 0.6483 - acc: 0.6904 - val_loss: 0.4294 - val_acc: 0.8330\n",
            "Epoch 13/50\n",
            " - 4s - loss: 0.6374 - acc: 0.6944 - val_loss: 0.4036 - val_acc: 0.8288\n",
            "Epoch 14/50\n",
            " - 4s - loss: 0.6248 - acc: 0.6942 - val_loss: 0.3773 - val_acc: 0.8392\n",
            "Epoch 15/50\n",
            " - 4s - loss: 0.6127 - acc: 0.6918 - val_loss: 0.3629 - val_acc: 0.8309\n",
            "Epoch 16/50\n",
            " - 4s - loss: 0.6001 - acc: 0.7016 - val_loss: 0.3497 - val_acc: 0.8330\n",
            "Epoch 17/50\n",
            " - 4s - loss: 0.5856 - acc: 0.7083 - val_loss: 0.3429 - val_acc: 0.8288\n",
            "Epoch 18/50\n",
            " - 4s - loss: 0.5683 - acc: 0.7276 - val_loss: 0.3400 - val_acc: 0.8288\n",
            "Epoch 19/50\n",
            " - 6s - loss: 0.5586 - acc: 0.7348 - val_loss: 0.3330 - val_acc: 0.8372\n",
            "Epoch 20/50\n",
            " - 5s - loss: 0.5459 - acc: 0.7448 - val_loss: 0.3299 - val_acc: 0.8372\n",
            "Epoch 21/50\n",
            " - 5s - loss: 0.5338 - acc: 0.7483 - val_loss: 0.3277 - val_acc: 0.8434\n",
            "Epoch 22/50\n",
            " - 5s - loss: 0.5239 - acc: 0.7620 - val_loss: 0.3211 - val_acc: 0.8434\n",
            "Epoch 23/50\n",
            " - 5s - loss: 0.5182 - acc: 0.7646 - val_loss: 0.3160 - val_acc: 0.8497\n",
            "Epoch 24/50\n",
            " - 6s - loss: 0.5071 - acc: 0.7678 - val_loss: 0.3145 - val_acc: 0.8434\n",
            "Epoch 25/50\n",
            " - 7s - loss: 0.4943 - acc: 0.7760 - val_loss: 0.3092 - val_acc: 0.8518\n",
            "Epoch 26/50\n",
            " - 7s - loss: 0.4869 - acc: 0.7778 - val_loss: 0.3055 - val_acc: 0.8643\n",
            "Epoch 27/50\n",
            " - 7s - loss: 0.4819 - acc: 0.7853 - val_loss: 0.3022 - val_acc: 0.8622\n",
            "Epoch 28/50\n",
            " - 7s - loss: 0.4737 - acc: 0.7862 - val_loss: 0.2996 - val_acc: 0.8601\n",
            "Epoch 29/50\n",
            " - 7s - loss: 0.4708 - acc: 0.7853 - val_loss: 0.2960 - val_acc: 0.8601\n",
            "Epoch 30/50\n",
            " - 7s - loss: 0.4604 - acc: 0.7888 - val_loss: 0.2935 - val_acc: 0.8643\n",
            "Epoch 31/50\n",
            " - 7s - loss: 0.4568 - acc: 0.7932 - val_loss: 0.2883 - val_acc: 0.8643\n",
            "Epoch 32/50\n",
            " - 7s - loss: 0.4538 - acc: 0.7904 - val_loss: 0.2862 - val_acc: 0.8706\n",
            "Epoch 33/50\n",
            " - 7s - loss: 0.4501 - acc: 0.7964 - val_loss: 0.2871 - val_acc: 0.8664\n",
            "Epoch 34/50\n",
            " - 7s - loss: 0.4423 - acc: 0.8001 - val_loss: 0.2855 - val_acc: 0.8685\n",
            "Epoch 35/50\n",
            " - 7s - loss: 0.4413 - acc: 0.8004 - val_loss: 0.2803 - val_acc: 0.8706\n",
            "Epoch 36/50\n",
            " - 5s - loss: 0.4386 - acc: 0.8073 - val_loss: 0.2806 - val_acc: 0.8685\n",
            "Epoch 37/50\n",
            " - 4s - loss: 0.4351 - acc: 0.8046 - val_loss: 0.2782 - val_acc: 0.8747\n",
            "Epoch 38/50\n",
            " - 4s - loss: 0.4314 - acc: 0.8069 - val_loss: 0.2787 - val_acc: 0.8768\n",
            "Epoch 39/50\n",
            " - 4s - loss: 0.4306 - acc: 0.8087 - val_loss: 0.2764 - val_acc: 0.8747\n",
            "Epoch 40/50\n",
            " - 4s - loss: 0.4221 - acc: 0.8145 - val_loss: 0.2765 - val_acc: 0.8789\n",
            "Epoch 41/50\n",
            " - 4s - loss: 0.4248 - acc: 0.8136 - val_loss: 0.2781 - val_acc: 0.8747\n",
            "Epoch 42/50\n",
            " - 4s - loss: 0.4233 - acc: 0.8122 - val_loss: 0.2747 - val_acc: 0.8789\n",
            "Epoch 43/50\n",
            " - 5s - loss: 0.4211 - acc: 0.8115 - val_loss: 0.2725 - val_acc: 0.8789\n",
            "Epoch 44/50\n",
            " - 4s - loss: 0.4110 - acc: 0.8166 - val_loss: 0.2777 - val_acc: 0.8727\n",
            "Epoch 45/50\n",
            " - 4s - loss: 0.4105 - acc: 0.8183 - val_loss: 0.2706 - val_acc: 0.8810\n",
            "Epoch 46/50\n",
            " - 4s - loss: 0.4111 - acc: 0.8136 - val_loss: 0.2716 - val_acc: 0.8789\n",
            "Epoch 47/50\n",
            " - 4s - loss: 0.4095 - acc: 0.8136 - val_loss: 0.2705 - val_acc: 0.8789\n",
            "Epoch 48/50\n",
            " - 3s - loss: 0.4053 - acc: 0.8187 - val_loss: 0.2726 - val_acc: 0.8789\n",
            "Epoch 49/50\n",
            " - 4s - loss: 0.4140 - acc: 0.8125 - val_loss: 0.2797 - val_acc: 0.8789\n",
            "Epoch 50/50\n",
            " - 4s - loss: 0.4444 - acc: 0.8048 - val_loss: 0.2762 - val_acc: 0.8706\n",
            "479/479 [==============================] - 0s 314us/step\n"
          ],
          "name": "stdout"
        },
        {
          "output_type": "execute_result",
          "data": {
            "text/plain": [
              "[0.2762113334708274, 0.8705636743215032]"
            ]
          },
          "metadata": {
            "tags": []
          },
          "execution_count": 31
        }
      ]
    },
    {
      "cell_type": "code",
      "metadata": {
        "id": "SCrya5ttdbUC",
        "colab_type": "code",
        "outputId": "77c3117f-4a06-4d48-9065-46231eebfba3",
        "colab": {
          "base_uri": "https://localhost:8080/",
          "height": 445
        }
      },
      "source": [
        "# Loss History Chart\n",
        "\n",
        "spine_color = '#808080'\n",
        "grid_color = '#D3D3D3'\n",
        "\n",
        "fig = plt.figure(figsize=(12,7))\n",
        "\n",
        "plt.style.use('seaborn-white')\n",
        "\n",
        "# plot history\n",
        "plt.plot(epoch_history.history['loss'], label='train')\n",
        "plt.plot(epoch_history.history['val_loss'], label='test')\n",
        "plt.legend()\n"
      ],
      "execution_count": 0,
      "outputs": [
        {
          "output_type": "execute_result",
          "data": {
            "text/plain": [
              "<matplotlib.legend.Legend at 0x7f39976a9240>"
            ]
          },
          "metadata": {
            "tags": []
          },
          "execution_count": 32
        },
        {
          "output_type": "display_data",
          "data": {
            "image/png": "[encoded data removed]",
            "text/plain": [
              "<Figure size 864x504 with 1 Axes>"
            ]
          },
          "metadata": {
            "tags": []
          }
        }
      ]
    },
    {
      "cell_type": "code",
      "metadata": {
        "id": "7DuDkDmndbXh",
        "colab_type": "code",
        "outputId": "e48dbd22-6624-45fe-c607-8be7f0a04930",
        "colab": {
          "base_uri": "https://localhost:8080/",
          "height": 70
        }
      },
      "source": [
        "# Model Evaluation - Confusion Matrix\n",
        "\n",
        "\n",
        "y_pred = model.predict(test_x)\n",
        "matrix_14 = confusion_matrix(test_y.argmax(axis=1), y_pred.argmax(axis=1))\n",
        "y_pred_14 = y_pred\n",
        "matrix_14\n"
      ],
      "execution_count": 0,
      "outputs": [
        {
          "output_type": "execute_result",
          "data": {
            "text/plain": [
              "array([[352,   2,  10],\n",
              "       [ 24,  39,   0],\n",
              "       [ 26,   0,  26]])"
            ]
          },
          "metadata": {
            "tags": []
          },
          "execution_count": 33
        }
      ]
    },
    {
      "cell_type": "markdown",
      "metadata": {
        "id": "r5YoTNLUtCBQ",
        "colab_type": "text"
      },
      "source": [
        "### Computing Strategy Returns"
      ]
    },
    {
      "cell_type": "markdown",
      "metadata": {
        "id": "qVV9xw-7dZhh",
        "colab_type": "text"
      },
      "source": [
        ""
      ]
    },
    {
      "cell_type": "markdown",
      "metadata": {
        "id": "fYc5gr6FdZyC",
        "colab_type": "text"
      },
      "source": [
        ""
      ]
    },
    {
      "cell_type": "markdown",
      "metadata": {
        "id": "zA6x448bdZ4h",
        "colab_type": "text"
      },
      "source": [
        ""
      ]
    }
  ]
}